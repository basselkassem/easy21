{
  "nbformat": 4,
  "nbformat_minor": 0,
  "metadata": {
    "colab": {
      "name": "monteControl-control.ipynb",
      "provenance": [],
      "collapsed_sections": [],
      "authorship_tag": "ABX9TyOtmIATv+jP2yLv1CH50m2O",
      "include_colab_link": true
    },
    "kernelspec": {
      "name": "python3",
      "display_name": "Python 3"
    }
  },
  "cells": [
    {
      "cell_type": "markdown",
      "metadata": {
        "id": "view-in-github",
        "colab_type": "text"
      },
      "source": [
        "<a href=\"https://colab.research.google.com/github/basselkassem/easy21/blob/master/monteControl_control.ipynb\" target=\"_parent\"><img src=\"https://colab.research.google.com/assets/colab-badge.svg\" alt=\"Open In Colab\"/></a>"
      ]
    },
    {
      "cell_type": "markdown",
      "metadata": {
        "id": "LDXqj5Ui7uvp",
        "colab_type": "text"
      },
      "source": [
        "# Install Libs"
      ]
    },
    {
      "cell_type": "code",
      "metadata": {
        "id": "yzKrOjc04ocB",
        "colab_type": "code",
        "outputId": "35c0f36a-0bb8-43fa-c10c-8c2d15459ff8",
        "colab": {
          "base_uri": "https://localhost:8080/",
          "height": 36
        }
      },
      "source": [
        "!pip install import_ipynb"
      ],
      "execution_count": 23,
      "outputs": [
        {
          "output_type": "stream",
          "text": [
            "Requirement already satisfied: import_ipynb in /usr/local/lib/python3.6/dist-packages (0.1.3)\n"
          ],
          "name": "stdout"
        }
      ]
    },
    {
      "cell_type": "code",
      "metadata": {
        "id": "m-2hNAKy5x2g",
        "colab_type": "code",
        "outputId": "b9739eef-6b25-4df4-b562-2bcc7faf0760",
        "colab": {
          "base_uri": "https://localhost:8080/",
          "height": 74
        }
      },
      "source": [
        "from google.colab import drive\n",
        "drive.mount('/content/drive')\n",
        "%cd /content/drive/'My Drive'/'Colab Notebooks'/easy21"
      ],
      "execution_count": 1,
      "outputs": [
        {
          "output_type": "stream",
          "text": [
            "Drive already mounted at /content/drive; to attempt to forcibly remount, call drive.mount(\"/content/drive\", force_remount=True).\n",
            "/content/drive/My Drive/Colab Notebooks/easy21\n"
          ],
          "name": "stdout"
        }
      ]
    },
    {
      "cell_type": "markdown",
      "metadata": {
        "id": "3JoV54Hc0Yx7",
        "colab_type": "text"
      },
      "source": [
        "#Monte-Carlo Control in Easy21\n",
        "\n",
        "- Initialise the value function to zero\n",
        "- Use a time-varying scalar step-size of αt = 1/N(st,at) where N(s, a) is the number\n",
        "of times that action a has been selected from state s\n",
        "- Use e\u000f-greedy exploration strategy with e\u000ft = N0/(N0 + N(st)), where N0 = 100 is a constant, N(s) is the number of times that state s has been visited\n",
        "- Choose an alternative value for N0, if it helps producing better results. \n",
        "- Plot the optimal\n",
        "value function V∗(s) = max_a[Q∗(s, a)] using axes for dealer and the player values"
      ]
    },
    {
      "cell_type": "markdown",
      "metadata": {
        "id": "28IHzUyb5y17",
        "colab_type": "text"
      },
      "source": [
        "# Import Libs"
      ]
    },
    {
      "cell_type": "code",
      "metadata": {
        "id": "swArtqYEz9bR",
        "colab_type": "code",
        "colab": {}
      },
      "source": [
        "import import_ipynb\n",
        "import environment as env\n",
        "import numpy as np"
      ],
      "execution_count": 0,
      "outputs": []
    },
    {
      "cell_type": "code",
      "metadata": {
        "id": "d14m92c-4665",
        "colab_type": "code",
        "colab": {}
      },
      "source": [
        "easy21 = env.Environment()\n",
        "next_state, reward, done = easy21.init()"
      ],
      "execution_count": 0,
      "outputs": []
    },
    {
      "cell_type": "markdown",
      "metadata": {
        "id": "Rax_cXGkgQjL",
        "colab_type": "text"
      },
      "source": [
        "# Action space, State space"
      ]
    },
    {
      "cell_type": "code",
      "metadata": {
        "id": "gOJaowrMgeeF",
        "colab_type": "code",
        "colab": {
          "base_uri": "https://localhost:8080/",
          "height": 36
        },
        "outputId": "504aa614-55a0-417a-c5ff-0f5bec642cea"
      },
      "source": [
        "dealer_first_card_space = np.arange(1, 11)\n",
        "player_score_space = np.arange(1, 22)\n",
        "\n",
        "state_space = (len(dealer_first_card_space), len(player_score_space))\n",
        "state_action_space = (len(dealer_first_card_space), len(player_score_space), 2)\n",
        "state_action_space"
      ],
      "execution_count": 29,
      "outputs": [
        {
          "output_type": "execute_result",
          "data": {
            "text/plain": [
              "(10, 21, 2)"
            ]
          },
          "metadata": {
            "tags": []
          },
          "execution_count": 29
        }
      ]
    },
    {
      "cell_type": "markdown",
      "metadata": {
        "id": "Iy4GnGTCen1_",
        "colab_type": "text"
      },
      "source": [
        "# class MonteCarloControl"
      ]
    },
    {
      "cell_type": "code",
      "metadata": {
        "id": "bdR4bPm0TkPA",
        "colab_type": "code",
        "colab": {}
      },
      "source": [
        "class MonteCarloControl:\n",
        "\n",
        "    def __init__(self, episodes_num, N0 = 100):\n",
        "        self.episodes_num = episodes_num\n",
        "        #self.agent_policy = np.zeros(state_action_space)\n",
        "        self.states_visits = np.zeros(state_space)\n",
        "        self.actions_states_visits = np.zeros(state_action_space)\n",
        "        self.Q = np.zeros(state_action_space)\n",
        "        self.N0 = N0\n",
        "\n",
        "    def epsilon_greedy(self, state):\n",
        "        dealer_first_card, player_score = state\n",
        "        state_visit = self.states_visits[dealer_first_card, player_score]\n",
        "        epsilon = self.N0 / (self.N0 + state_visit)\n",
        "        if np.random.random() < epsilon:\n",
        "            actions = self.Q[dealer_first_card, player_score]\n",
        "            return np.argmax(actions)\n",
        "        else:\n",
        "            return easy21.sample_action()\n",
        "\n",
        "    def generate_episodes(self):\n",
        "        pass\n",
        "    def sample_episode(self):\n",
        "        pass\n",
        "    def policy_evaluation(self, state, action):\n",
        "        dealer_first_card, player_score = state\n",
        "        for episode in np.arange(self.episodes_num):\n",
        "            done = False\n",
        "            return_reward = 0\n",
        "            while not done:\n",
        "                player_action = np.argmax(self.Q[dealer_first_card, player_score])\n",
        "                next_state, reward, done = env.step(next_state, player_action)\n",
        "                self.actions_states_visits[dealer_first_card, player_score, player_action] += 1\n",
        "                return_reward += reward\n",
        "            N = self.actions_states_visits[dealer_first_card, player_score, player_action]\n",
        "            self.Q[dealer_first_card, player_score, action] = return_reward / N\n",
        "    def value_iteration(self, num):\n",
        "\n",
        "        self.policy_evaluation()\n",
        "        \n",
        "    \n",
        "    "
      ],
      "execution_count": 0,
      "outputs": []
    },
    {
      "cell_type": "code",
      "metadata": {
        "id": "nQrCFBJ9iJd9",
        "colab_type": "code",
        "colab": {}
      },
      "source": [
        "agent = MonteCarloControl(episodes_num = 100)"
      ],
      "execution_count": 0,
      "outputs": []
    },
    {
      "cell_type": "code",
      "metadata": {
        "id": "OUOOQVhCkiKZ",
        "colab_type": "code",
        "colab": {}
      },
      "source": [
        ""
      ],
      "execution_count": 0,
      "outputs": []
    }
  ]
}
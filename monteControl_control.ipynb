{
  "nbformat": 4,
  "nbformat_minor": 0,
  "metadata": {
    "colab": {
      "name": "monteControl-control.ipynb",
      "provenance": [],
      "authorship_tag": "ABX9TyPtbnj/USQeJLHdeE4DhRbo",
      "include_colab_link": true
    },
    "kernelspec": {
      "name": "python3",
      "display_name": "Python 3"
    }
  },
  "cells": [
    {
      "cell_type": "markdown",
      "metadata": {
        "id": "view-in-github",
        "colab_type": "text"
      },
      "source": [
        "<a href=\"https://colab.research.google.com/github/basselkassem/easy21/blob/master/monteControl_control.ipynb\" target=\"_parent\"><img src=\"https://colab.research.google.com/assets/colab-badge.svg\" alt=\"Open In Colab\"/></a>"
      ]
    },
    {
      "cell_type": "markdown",
      "metadata": {
        "id": "LDXqj5Ui7uvp",
        "colab_type": "text"
      },
      "source": [
        "# Install Libs"
      ]
    },
    {
      "cell_type": "code",
      "metadata": {
        "id": "yzKrOjc04ocB",
        "colab_type": "code",
        "colab": {
          "base_uri": "https://localhost:8080/",
          "height": 206
        },
        "outputId": "a77954e7-63b2-4c34-ee23-70db7b6c12d3"
      },
      "source": [
        "!pip install import_ipynb"
      ],
      "execution_count": 2,
      "outputs": [
        {
          "output_type": "stream",
          "text": [
            "Collecting import_ipynb\n",
            "  Downloading https://files.pythonhosted.org/packages/63/35/495e0021bfdcc924c7cdec4e9fbb87c88dd03b9b9b22419444dc370c8a45/import-ipynb-0.1.3.tar.gz\n",
            "Building wheels for collected packages: import-ipynb\n",
            "  Building wheel for import-ipynb (setup.py) ... \u001b[?25l\u001b[?25hdone\n",
            "  Created wheel for import-ipynb: filename=import_ipynb-0.1.3-cp36-none-any.whl size=2976 sha256=941108172b5ad4047210fec371c17e67d38c4bb12de5e97ab36334f64777accf\n",
            "  Stored in directory: /root/.cache/pip/wheels/b4/7b/e9/a3a6e496115dffdb4e3085d0ae39ffe8a814eacc44bbf494b5\n",
            "Successfully built import-ipynb\n",
            "Installing collected packages: import-ipynb\n",
            "Successfully installed import-ipynb-0.1.3\n"
          ],
          "name": "stdout"
        }
      ]
    },
    {
      "cell_type": "code",
      "metadata": {
        "id": "m-2hNAKy5x2g",
        "colab_type": "code",
        "colab": {
          "base_uri": "https://localhost:8080/",
          "height": 74
        },
        "outputId": "24ea6dfb-d2eb-4800-b787-216d77733039"
      },
      "source": [
        "from google.colab import drive\n",
        "drive.mount('/content/drive')\n",
        "%cd /content/drive/'My Drive'/'Colab Notebooks'/easy21"
      ],
      "execution_count": 30,
      "outputs": [
        {
          "output_type": "stream",
          "text": [
            "Drive already mounted at /content/drive; to attempt to forcibly remount, call drive.mount(\"/content/drive\", force_remount=True).\n",
            "/content/drive/My Drive/Colab Notebooks/easy21\n"
          ],
          "name": "stdout"
        }
      ]
    },
    {
      "cell_type": "markdown",
      "metadata": {
        "id": "3JoV54Hc0Yx7",
        "colab_type": "text"
      },
      "source": [
        "#Monte-Carlo Control in Easy21\n",
        "\n",
        "- Initialise the value function to zero\n",
        "- Use a time-varying scalar step-size of αt = 1/N(st,at) where N(s, a) is the number\n",
        "of times that action a has been selected from state s\n",
        "- Use e\u000f-greedy exploration strategy with e\u000ft = N0/(N0 + N(st)), where N0 = 100 is a constant, N(s) is the number of times that state s has been visited\n",
        "- Choose an alternative value for N0, if it helps producing better results. \n",
        "- Plot the optimal\n",
        "value function V∗(s) = max_a[Q∗(s, a)] using axes for dealer and the player values"
      ]
    },
    {
      "cell_type": "markdown",
      "metadata": {
        "id": "28IHzUyb5y17",
        "colab_type": "text"
      },
      "source": [
        "# Import Libs"
      ]
    },
    {
      "cell_type": "code",
      "metadata": {
        "id": "swArtqYEz9bR",
        "colab_type": "code",
        "colab": {}
      },
      "source": [
        "import import_ipynb\n",
        "import environment as env"
      ],
      "execution_count": 0,
      "outputs": []
    },
    {
      "cell_type": "code",
      "metadata": {
        "id": "d14m92c-4665",
        "colab_type": "code",
        "colab": {}
      },
      "source": [
        "easy21 = env.Environment()"
      ],
      "execution_count": 0,
      "outputs": []
    },
    {
      "cell_type": "code",
      "metadata": {
        "id": "gbFW51Yv7CsE",
        "colab_type": "code",
        "colab": {}
      },
      "source": [
        ""
      ],
      "execution_count": 0,
      "outputs": []
    }
  ]
}
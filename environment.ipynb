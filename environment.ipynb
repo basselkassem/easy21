{
  "nbformat": 4,
  "nbformat_minor": 0,
  "metadata": {
    "kernelspec": {
      "display_name": "Python 3",
      "language": "python",
      "name": "python3"
    },
    "language_info": {
      "codemirror_mode": {
        "name": "ipython",
        "version": 3
      },
      "file_extension": ".py",
      "mimetype": "text/x-python",
      "name": "python",
      "nbconvert_exporter": "python",
      "pygments_lexer": "ipython3",
      "version": "3.6.8"
    },
    "toc": {
      "base_numbering": 1,
      "nav_menu": {},
      "number_sections": true,
      "sideBar": true,
      "skip_h1_title": false,
      "title_cell": "Table of Contents",
      "title_sidebar": "Contents",
      "toc_cell": false,
      "toc_position": {},
      "toc_section_display": true,
      "toc_window_display": false
    },
    "colab": {
      "name": "environment.ipynb",
      "provenance": [],
      "collapsed_sections": [],
      "include_colab_link": true
    }
  },
  "cells": [
    {
      "cell_type": "markdown",
      "metadata": {
        "id": "view-in-github",
        "colab_type": "text"
      },
      "source": [
        "<a href=\"https://colab.research.google.com/github/basselkassem/easy21/blob/master/environment.ipynb\" target=\"_parent\"><img src=\"https://colab.research.google.com/assets/colab-badge.svg\" alt=\"Open In Colab\"/></a>"
      ]
    },
    {
      "cell_type": "markdown",
      "metadata": {
        "id": "osixUn04O2dM",
        "colab_type": "text"
      },
      "source": [
        "# Install libs"
      ]
    },
    {
      "cell_type": "code",
      "metadata": {
        "id": "ROl_6A-iOyvQ",
        "colab_type": "code",
        "colab": {
          "base_uri": "https://localhost:8080/",
          "height": 35
        },
        "outputId": "ed0a8c7f-e3b3-4bff-e322-b593048fa575"
      },
      "source": [
        "!pip install import_ipynb"
      ],
      "execution_count": 1,
      "outputs": [
        {
          "output_type": "stream",
          "text": [
            "Requirement already satisfied: import_ipynb in /usr/local/lib/python3.6/dist-packages (0.1.3)\n"
          ],
          "name": "stdout"
        }
      ]
    },
    {
      "cell_type": "code",
      "metadata": {
        "id": "wJmWXlqSO7Uz",
        "colab_type": "code",
        "colab": {
          "base_uri": "https://localhost:8080/",
          "height": 54
        },
        "outputId": "ebbdf943-8a8a-4964-c02e-0ebb0be07a83"
      },
      "source": [
        "from google.colab import drive\n",
        "drive.mount(\"/content/drive\")\n",
        "%cd /content/drive/'My Drive'/'Colab Notebooks'/easy21"
      ],
      "execution_count": 2,
      "outputs": [
        {
          "output_type": "stream",
          "text": [
            "Drive already mounted at /content/drive; to attempt to forcibly remount, call drive.mount(\"/content/drive\", force_remount=True).\n",
            "/content/drive/My Drive/Colab Notebooks/easy21\n"
          ],
          "name": "stdout"
        }
      ]
    },
    {
      "cell_type": "markdown",
      "metadata": {
        "id": "aF63eKq4suIk",
        "colab_type": "text"
      },
      "source": [
        "# Import Libs"
      ]
    },
    {
      "cell_type": "code",
      "metadata": {
        "id": "kjMk4Dytm5hd",
        "colab_type": "code",
        "colab": {
          "base_uri": "https://localhost:8080/",
          "height": 164
        },
        "outputId": "1aa07b55-631f-4a3e-9f1c-f04e2352fe2a"
      },
      "source": [
        "import numpy as np\n",
        "import matplotlib.pyplot as plt\n",
        "import import_ipynb\n",
        "import game_config as conf"
      ],
      "execution_count": 6,
      "outputs": [
        {
          "output_type": "stream",
          "text": [
            "importing Jupyter notebook from game_config.ipynb\n",
            "[   100   1000  10000 100000]\n",
            "[0 1]\n",
            "[ 1  2  3  4  5  6  7  8  9 10] (10,)\n",
            "[ 1  2  3  4  5  6  7  8  9 10 11 12 13 14 15 16 17 18 19 20 21] (21,)\n",
            "(10, 21)\n",
            "(10, 21, 2)\n",
            "[  50  100 1000]\n"
          ],
          "name": "stdout"
        }
      ]
    },
    {
      "cell_type": "markdown",
      "metadata": {
        "id": "fswe_6Tfsz8S",
        "colab_type": "text"
      },
      "source": [
        "#Card Class"
      ]
    },
    {
      "cell_type": "code",
      "metadata": {
        "id": "7dhKpsy4tBop",
        "colab_type": "code",
        "colab": {}
      },
      "source": [
        "class Card:\n",
        "    def __init__(self, value, color):\n",
        "        self.value = value\n",
        "        self.color = color\n",
        "        \n",
        "    def display(self):\n",
        "        print('color:', self.color, 'value:', self.value)\n",
        "        \n",
        "    def get_value(self):\n",
        "        if self.color == 'red':\n",
        "            return -self.value\n",
        "        else:\n",
        "            return self.value"
      ],
      "execution_count": 0,
      "outputs": []
    },
    {
      "cell_type": "markdown",
      "metadata": {
        "id": "d_99PodGs5RV",
        "colab_type": "text"
      },
      "source": [
        "#CardDeck Class"
      ]
    },
    {
      "cell_type": "code",
      "metadata": {
        "id": "IID25fMztEed",
        "colab_type": "code",
        "colab": {}
      },
      "source": [
        "class CardDeck:\n",
        "    def __init__(self):\n",
        "        pass\n",
        "    \n",
        "    @staticmethod\n",
        "    def draw():\n",
        "        red_card_prop = 1 / 3\n",
        "        color = ''\n",
        "        if np.random.random() < red_card_prop:\n",
        "            color = 'red'\n",
        "        else:\n",
        "            color = 'black'\n",
        "        value = np.random.randint(conf.CARD_VALUE_MIN, conf.CARD_VALUE_MAX + 1)\n",
        "        card = Card(value, color)\n",
        "        return card\n",
        "    \n",
        "    @staticmethod\n",
        "    def draw_black_card():\n",
        "        color = 'black'\n",
        "        value = np.random.randint(conf.CARD_VALUE_MIN, conf.CARD_VALUE_MAX + 1)\n",
        "        card = Card(value, color)\n",
        "        return card"
      ],
      "execution_count": 0,
      "outputs": []
    },
    {
      "cell_type": "markdown",
      "metadata": {
        "id": "Ewh1SrEEs5os",
        "colab_type": "text"
      },
      "source": [
        "#Player Class"
      ]
    },
    {
      "cell_type": "code",
      "metadata": {
        "id": "e8Mb8_YctRpN",
        "colab_type": "code",
        "colab": {}
      },
      "source": [
        "class Player:\n",
        "    def __init__(self):\n",
        "        self.score = 0\n",
        "        self.first_card = 0\n",
        "    \n",
        "    def set_score(self, score):\n",
        "        self.score = score\n",
        "    \n",
        "    def hit(self):\n",
        "        new_card = CardDeck.draw()\n",
        "        self.score += new_card.get_value()\n",
        "\n",
        "    def is_busted(self):\n",
        "        busted = False\n",
        "        if self.score < conf.MIN_VALUE or self.score > conf.MAX_VALUE:\n",
        "            busted = True\n",
        "        return busted\n",
        "            \n",
        "    def display_status(self):\n",
        "        print('Score:', self.score)\n",
        "        print('Busted:', self.is_busted())"
      ],
      "execution_count": 0,
      "outputs": []
    },
    {
      "cell_type": "markdown",
      "metadata": {
        "id": "w9Jz4yops6Jz",
        "colab_type": "text"
      },
      "source": [
        "# Environment Class"
      ]
    },
    {
      "cell_type": "code",
      "metadata": {
        "id": "C4OQIRjim5hm",
        "colab_type": "code",
        "colab": {}
      },
      "source": [
        "class Environment:\n",
        "\n",
        "    def __init__(self):\n",
        "        self.dealer = Player()\n",
        "        self.player = Player()\n",
        "        self.next_state = None\n",
        "        self.reward = 0\n",
        "        self.time_step = 0\n",
        "        self.done = False\n",
        "    \n",
        "    def sample_action(self):\n",
        "        return np.random.randint(conf.HIT, conf.STICK + 1)\n",
        "        \n",
        "    def reward_func(self):\n",
        "        if self.player.is_busted():\n",
        "            return -1\n",
        "        if self.dealer.is_busted():\n",
        "            return 1\n",
        "        return 0\n",
        "    \n",
        "    def is_done(self):\n",
        "        if self.player.is_busted() or self.dealer.is_busted():\n",
        "            self.done = True\n",
        "        else:\n",
        "            self.done = False\n",
        "        return self.done\n",
        "    \n",
        "    def init(self):\n",
        "        player_first_card = CardDeck.draw_black_card()\n",
        "        dealer_first_card = CardDeck.draw_black_card()\n",
        "\n",
        "        self.dealer.set_score(dealer_first_card.get_value())\n",
        "        self.dealer.first_card = dealer_first_card.get_value()\n",
        "\n",
        "        self.player.set_score(player_first_card.get_value())\n",
        "        self.player.first_card = player_first_card.get_value()\n",
        "        \n",
        "        self.next_state = (self.dealer.first_card, self.player.score)\n",
        "\n",
        "        return (self.next_state, self.reward, self.done)\n",
        "    \n",
        "    def dealer_step(self):\n",
        "        self.dealer.hit()\n",
        "        self.reward = self.reward_func()\n",
        "        self.is_done()\n",
        "    \n",
        "    def player_step(self):\n",
        "        self.player.hit()\n",
        "        self.next_state = (self.dealer.first_card, self.player.score)\n",
        "        self.reward = self.reward_func()\n",
        "        self.is_done()\n",
        "        \n",
        "    def dealer_policy(self):\n",
        "        action = None\n",
        "        dealer_score = self.dealer.score\n",
        "        if dealer_score >= conf.DEALER_THRESHOLD:\n",
        "            action = conf.STICK\n",
        "        else:\n",
        "            action = conf.HIT\n",
        "        return action\n",
        "    \n",
        "    def handel_two_sticks(self):\n",
        "        if self.dealer.score > self.player.score:\n",
        "            self.reward = -1\n",
        "        elif self.dealer.score < self.player.score:\n",
        "            self.reward = 1\n",
        "        else:\n",
        "            self.reward = 0\n",
        "    \n",
        "    def display_info(self, name, action):\n",
        "        if name == 'Player':\n",
        "            print('Player: ', action)\n",
        "            self.player.display_status()\n",
        "            print('------')\n",
        "            print('Dealer: not its turn yet')\n",
        "            self.dealer.display_status()\n",
        "        else:\n",
        "            print('Player: Sticked')\n",
        "            self.player.display_status()\n",
        "            print('------')\n",
        "            print('Dealer: ', action)\n",
        "            self.dealer.display_status()\n",
        "        print('reward:', self.reward, 'is_done:', self.done)\n",
        "        print()        \n",
        "    def re_init(self, dealer_first_card, player_score):\n",
        "        self.player.score = player_score\n",
        "        self.dealer.first_card = dealer_first_card\n",
        "        self.dealer.score = dealer_first_card\n",
        "\n",
        "    def step(self, state = None, player_action = -1):\n",
        "        dealer_first_card, player_score = state\n",
        "        self.re_init(dealer_first_card, player_score)\n",
        "        if not self.done:\n",
        "            self.time_step += 1\n",
        "            if player_action == conf.HIT:\n",
        "                self.player_step()\n",
        "                #self.display_info('Player', player_action)\n",
        "            elif player_action == conf.STICK:\n",
        "                while not(self.dealer.is_busted() or self.done):\n",
        "                    dealer_action = self.dealer_policy()\n",
        "                    if dealer_action == conf.HIT:\n",
        "                        self.dealer_step()\n",
        "                    elif dealer_action == conf.STICK:\n",
        "                        self.done = True\n",
        "                        self.handel_two_sticks()\n",
        "                    else:\n",
        "                        print('Unknown dealer action')\n",
        "                    #self.display_info('Dealer', dealer_action)\n",
        "            else:\n",
        "                print('Unkown player action')\n",
        "        else:\n",
        "            #print('Game is over')\n",
        "            pass\n",
        "        return (self.next_state, self.reward, self.done)"
      ],
      "execution_count": 0,
      "outputs": []
    },
    {
      "cell_type": "code",
      "metadata": {
        "scrolled": false,
        "id": "D9ZPbtjcm5hw",
        "colab_type": "code",
        "outputId": "f29162d1-3584-469e-b865-9e9ebb9beb78",
        "colab": {
          "base_uri": "https://localhost:8080/",
          "height": 35
        }
      },
      "source": [
        "env = Environment()\n",
        "next_state, reward, done = env.init()\n",
        "print(env.player.first_card, env.dealer.first_card)\n",
        "\n",
        "for i in range(100):\n",
        "    player_action = env.sample_action()\n",
        "    next_state, reward, done = env.step(next_state, player_action = 0)\n",
        "    if done:\n",
        "        break"
      ],
      "execution_count": 43,
      "outputs": [
        {
          "output_type": "stream",
          "text": [
            "2 3\n"
          ],
          "name": "stdout"
        }
      ]
    },
    {
      "cell_type": "code",
      "metadata": {
        "id": "_DfKM1zquJhR",
        "colab_type": "code",
        "colab": {}
      },
      "source": [
        ""
      ],
      "execution_count": 0,
      "outputs": []
    }
  ]
}
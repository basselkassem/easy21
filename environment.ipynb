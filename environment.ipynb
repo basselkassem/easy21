{
  "nbformat": 4,
  "nbformat_minor": 0,
  "metadata": {
    "kernelspec": {
      "display_name": "Python 3",
      "language": "python",
      "name": "python3"
    },
    "language_info": {
      "codemirror_mode": {
        "name": "ipython",
        "version": 3
      },
      "file_extension": ".py",
      "mimetype": "text/x-python",
      "name": "python",
      "nbconvert_exporter": "python",
      "pygments_lexer": "ipython3",
      "version": "3.6.8"
    },
    "toc": {
      "base_numbering": 1,
      "nav_menu": {},
      "number_sections": true,
      "sideBar": true,
      "skip_h1_title": false,
      "title_cell": "Table of Contents",
      "title_sidebar": "Contents",
      "toc_cell": false,
      "toc_position": {},
      "toc_section_display": true,
      "toc_window_display": false
    },
    "colab": {
      "name": "environment.ipynb",
      "provenance": [],
      "collapsed_sections": [
        "tm1PASr6C5BT"
      ],
      "include_colab_link": true
    }
  },
  "cells": [
    {
      "cell_type": "markdown",
      "metadata": {
        "id": "view-in-github",
        "colab_type": "text"
      },
      "source": [
        "<a href=\"https://colab.research.google.com/github/basselkassem/easy21/blob/master/environment.ipynb\" target=\"_parent\"><img src=\"https://colab.research.google.com/assets/colab-badge.svg\" alt=\"Open In Colab\"/></a>"
      ]
    },
    {
      "cell_type": "markdown",
      "metadata": {
        "id": "aF63eKq4suIk",
        "colab_type": "text"
      },
      "source": [
        "# Import Libs"
      ]
    },
    {
      "cell_type": "code",
      "metadata": {
        "id": "kjMk4Dytm5hd",
        "colab_type": "code",
        "colab": {}
      },
      "source": [
        "import matplotlib.pyplot as plt\n",
        "import numpy as np"
      ],
      "execution_count": 0,
      "outputs": []
    },
    {
      "cell_type": "markdown",
      "metadata": {
        "id": "osixUn04O2dM",
        "colab_type": "text"
      },
      "source": [
        "# Game configuration"
      ]
    },
    {
      "cell_type": "markdown",
      "metadata": {
        "id": "tm1PASr6C5BT",
        "colab_type": "text"
      },
      "source": [
        "## Episodes number"
      ]
    },
    {
      "cell_type": "code",
      "metadata": {
        "id": "PJQYbXrbC-LV",
        "colab_type": "code",
        "outputId": "2c122444-a0c0-4f3f-ce24-07f3fe0220d2",
        "colab": {
          "base_uri": "https://localhost:8080/",
          "height": 35
        }
      },
      "source": [
        "EPISODES_NUMS = np.array([10**2, 10**3, 10**4,10**5])\n",
        "print(EPISODES_NUMS)"
      ],
      "execution_count": 6,
      "outputs": [
        {
          "output_type": "stream",
          "text": [
            "[   100   1000  10000 100000]\n"
          ],
          "name": "stdout"
        }
      ]
    },
    {
      "cell_type": "markdown",
      "metadata": {
        "id": "OU3ttGt6DAsq",
        "colab_type": "text"
      },
      "source": [
        "## Maximum score to lose"
      ]
    },
    {
      "cell_type": "code",
      "metadata": {
        "id": "ZiGmPtL2DKyt",
        "colab_type": "code",
        "colab": {}
      },
      "source": [
        "MAX_VALUE = 21"
      ],
      "execution_count": 0,
      "outputs": []
    },
    {
      "cell_type": "markdown",
      "metadata": {
        "id": "z5mwyDHZDMyD",
        "colab_type": "text"
      },
      "source": [
        "## Minimum score to lose"
      ]
    },
    {
      "cell_type": "code",
      "metadata": {
        "id": "yoQe0LsMCbJI",
        "colab_type": "code",
        "colab": {}
      },
      "source": [
        "MIN_VALUE = 1"
      ],
      "execution_count": 0,
      "outputs": []
    },
    {
      "cell_type": "markdown",
      "metadata": {
        "id": "S_ltJFQ4LEAB",
        "colab_type": "text"
      },
      "source": [
        "## Maximum of the cards values"
      ]
    },
    {
      "cell_type": "code",
      "metadata": {
        "id": "vThpxuOULWNB",
        "colab_type": "code",
        "colab": {}
      },
      "source": [
        "CARD_VALUE_MAX = 10"
      ],
      "execution_count": 0,
      "outputs": []
    },
    {
      "cell_type": "markdown",
      "metadata": {
        "id": "DffIXmKrLTFL",
        "colab_type": "text"
      },
      "source": [
        "## Minimum of the cards values"
      ]
    },
    {
      "cell_type": "code",
      "metadata": {
        "id": "rT4BSOCYLe9W",
        "colab_type": "code",
        "colab": {}
      },
      "source": [
        "CARD_VALUE_MIN = 1"
      ],
      "execution_count": 0,
      "outputs": []
    },
    {
      "cell_type": "markdown",
      "metadata": {
        "id": "NKcKlnLGS4Pj",
        "colab_type": "text"
      },
      "source": [
        "## Maximum score for dealer to stick"
      ]
    },
    {
      "cell_type": "code",
      "metadata": {
        "id": "ICxgAxoBTC2c",
        "colab_type": "code",
        "colab": {}
      },
      "source": [
        "DEALER_THRESHOLD = 17"
      ],
      "execution_count": 0,
      "outputs": []
    },
    {
      "cell_type": "markdown",
      "metadata": {
        "id": "NfEq6sPSDZAH",
        "colab_type": "text"
      },
      "source": [
        "## Action space"
      ]
    },
    {
      "cell_type": "code",
      "metadata": {
        "id": "PUsiO8PpDSZf",
        "colab_type": "code",
        "outputId": "f91bc8e8-45af-4a0d-9c73-768db75b34e8",
        "colab": {
          "base_uri": "https://localhost:8080/",
          "height": 35
        }
      },
      "source": [
        "HIT = 0\n",
        "STICK = 1\n",
        "ACTION_SPACE = np.array([HIT, STICK])\n",
        "print(ACTION_SPACE)"
      ],
      "execution_count": 12,
      "outputs": [
        {
          "output_type": "stream",
          "text": [
            "[0 1]\n"
          ],
          "name": "stdout"
        }
      ]
    },
    {
      "cell_type": "markdown",
      "metadata": {
        "id": "D1zUM1j1Dwuw",
        "colab_type": "text"
      },
      "source": [
        "## State Space\n",
        "The **state** is represented as a 2D array\n",
        "*   rows represent the dealer first card\n",
        "*   columns represent the player's score\n",
        "\n"
      ]
    },
    {
      "cell_type": "code",
      "metadata": {
        "id": "bANuSS5GDjhQ",
        "colab_type": "code",
        "outputId": "c932d842-dba9-4f79-b748-6b591d7fca95",
        "colab": {
          "base_uri": "https://localhost:8080/",
          "height": 72
        }
      },
      "source": [
        "DEALER_FIRST_CARD_SPACE = np.arange(CARD_VALUE_MIN, CARD_VALUE_MAX + 1)\n",
        "print(DEALER_FIRST_CARD_SPACE, DEALER_FIRST_CARD_SPACE.shape )\n",
        "PLAYER_SOCRE = np.arange(MIN_VALUE, MAX_VALUE + 1)\n",
        "print(PLAYER_SOCRE, PLAYER_SOCRE.shape)\n",
        "STATE_SPACE_SHAPE = (len(DEALER_FIRST_CARD_SPACE), len(PLAYER_SOCRE),)\n",
        "print(STATE_SPACE_SHAPE)"
      ],
      "execution_count": 13,
      "outputs": [
        {
          "output_type": "stream",
          "text": [
            "[ 1  2  3  4  5  6  7  8  9 10] (10,)\n",
            "[ 1  2  3  4  5  6  7  8  9 10 11 12 13 14 15 16 17 18 19 20 21] (21,)\n",
            "(10, 21)\n"
          ],
          "name": "stdout"
        }
      ]
    },
    {
      "cell_type": "markdown",
      "metadata": {
        "id": "BPuwREs8IMZF",
        "colab_type": "text"
      },
      "source": [
        "## Action-State Space\n",
        "The **Action-State** is represented as a 3D array\n",
        "\n",
        "\n",
        "*   1th-D represents the dealer first card\n",
        "*   2nd-D represent the player's score\n",
        "*   3th-D represent the action\n",
        "\n",
        "\n",
        "\n",
        "    \n",
        "    \n"
      ]
    },
    {
      "cell_type": "code",
      "metadata": {
        "id": "Lz0fe8ReILqj",
        "colab_type": "code",
        "outputId": "16d5a370-67d9-45d1-ed63-f47ee5bc4e6f",
        "colab": {
          "base_uri": "https://localhost:8080/",
          "height": 35
        }
      },
      "source": [
        "ACTION_STATE_SPACE_SHAPE = (len(DEALER_FIRST_CARD_SPACE), len(PLAYER_SOCRE), len(ACTION_SPACE))\n",
        "print(ACTION_STATE_SPACE_SHAPE)"
      ],
      "execution_count": 14,
      "outputs": [
        {
          "output_type": "stream",
          "text": [
            "(10, 21, 2)\n"
          ],
          "name": "stdout"
        }
      ]
    },
    {
      "cell_type": "markdown",
      "metadata": {
        "id": "a_uagH0WM2wG",
        "colab_type": "text"
      },
      "source": [
        "## Epsilon greedy constant"
      ]
    },
    {
      "cell_type": "code",
      "metadata": {
        "id": "ErwdNa5mM01d",
        "colab_type": "code",
        "outputId": "47082ed4-dc46-49cd-a8d5-7ea7a1ec53a8",
        "colab": {
          "base_uri": "https://localhost:8080/",
          "height": 35
        }
      },
      "source": [
        "N0_VALUES = np.array([50, 100, 1000])\n",
        "print(N0_VALUES)"
      ],
      "execution_count": 15,
      "outputs": [
        {
          "output_type": "stream",
          "text": [
            "[  50  100 1000]\n"
          ],
          "name": "stdout"
        }
      ]
    },
    {
      "cell_type": "code",
      "metadata": {
        "id": "VYwPCW6JEoVv",
        "colab_type": "code",
        "colab": {}
      },
      "source": [
        ""
      ],
      "execution_count": 0,
      "outputs": []
    },
    {
      "cell_type": "markdown",
      "metadata": {
        "id": "fswe_6Tfsz8S",
        "colab_type": "text"
      },
      "source": [
        "#Card Class"
      ]
    },
    {
      "cell_type": "code",
      "metadata": {
        "id": "7dhKpsy4tBop",
        "colab_type": "code",
        "colab": {}
      },
      "source": [
        "class Card:\n",
        "    def __init__(self, value, color):\n",
        "        self.value = value\n",
        "        self.color = color\n",
        "        \n",
        "    def display(self):\n",
        "        print('color:', self.color, 'value:', self.value)\n",
        "        \n",
        "    def get_value(self):\n",
        "        if self.color == 'red':\n",
        "            return -self.value\n",
        "        else:\n",
        "            return self.value"
      ],
      "execution_count": 0,
      "outputs": []
    },
    {
      "cell_type": "markdown",
      "metadata": {
        "id": "d_99PodGs5RV",
        "colab_type": "text"
      },
      "source": [
        "#CardDeck Class"
      ]
    },
    {
      "cell_type": "code",
      "metadata": {
        "id": "IID25fMztEed",
        "colab_type": "code",
        "colab": {}
      },
      "source": [
        "class CardDeck:\n",
        "    def __init__(self):\n",
        "        pass\n",
        "    \n",
        "    @staticmethod\n",
        "    def draw():\n",
        "        red_card_prop = 1 / 3\n",
        "        color = ''\n",
        "        if np.random.random() < red_card_prop:\n",
        "            color = 'red'\n",
        "        else:\n",
        "            color = 'black'\n",
        "        value = np.random.randint(CARD_VALUE_MIN, CARD_VALUE_MAX + 1)\n",
        "        card = Card(value, color)\n",
        "        return card\n",
        "    \n",
        "    @staticmethod\n",
        "    def draw_black_card():\n",
        "        color = 'black'\n",
        "        value = np.random.randint(CARD_VALUE_MIN, CARD_VALUE_MAX + 1)\n",
        "        card = Card(value, color)\n",
        "        return card"
      ],
      "execution_count": 0,
      "outputs": []
    },
    {
      "cell_type": "markdown",
      "metadata": {
        "id": "Ewh1SrEEs5os",
        "colab_type": "text"
      },
      "source": [
        "#Player Class"
      ]
    },
    {
      "cell_type": "code",
      "metadata": {
        "id": "e8Mb8_YctRpN",
        "colab_type": "code",
        "colab": {}
      },
      "source": [
        "class Player:\n",
        "    def __init__(self):\n",
        "        self.score = 0\n",
        "        self.first_card = 0\n",
        "    \n",
        "    def set_score(self, score):\n",
        "        self.score = score\n",
        "    \n",
        "    def hit(self):\n",
        "        new_card = CardDeck.draw()\n",
        "        self.score += new_card.get_value()\n",
        "\n",
        "    def is_busted(self):\n",
        "        busted = False\n",
        "        if self.score < MIN_VALUE or self.score > MAX_VALUE:\n",
        "            busted = True\n",
        "        return busted\n",
        "            \n",
        "    def display_status(self):\n",
        "        print('Score:', self.score)\n",
        "        print('Busted:', self.is_busted())"
      ],
      "execution_count": 0,
      "outputs": []
    },
    {
      "cell_type": "markdown",
      "metadata": {
        "id": "w9Jz4yops6Jz",
        "colab_type": "text"
      },
      "source": [
        "# Environment Class"
      ]
    },
    {
      "cell_type": "code",
      "metadata": {
        "id": "C4OQIRjim5hm",
        "colab_type": "code",
        "colab": {}
      },
      "source": [
        "class Environment:\n",
        "\n",
        "    def __init__(self, mode = 'debug' ):\n",
        "        self.dealer = Player()\n",
        "        self.player = Player()\n",
        "        self.next_state = None\n",
        "        self.reward = 0\n",
        "        self.time_step = 0\n",
        "        self.done = False\n",
        "        self.mode = mode\n",
        "    \n",
        "    def sample_action(self):\n",
        "        return np.random.randint(HIT, STICK + 1)\n",
        "        \n",
        "    def reward_func(self):\n",
        "        if self.player.is_busted():\n",
        "            return -1\n",
        "        if self.dealer.is_busted():\n",
        "            return 1\n",
        "        return 0\n",
        "    \n",
        "    def is_done(self):\n",
        "        if self.player.is_busted() or self.dealer.is_busted():\n",
        "            self.done = True\n",
        "        else:\n",
        "            self.done = False\n",
        "        return self.done\n",
        "    \n",
        "    def init(self):\n",
        "        player_first_card = CardDeck.draw_black_card()\n",
        "        dealer_first_card = CardDeck.draw_black_card()\n",
        "\n",
        "        self.dealer.set_score(dealer_first_card.get_value())\n",
        "        self.dealer.first_card = dealer_first_card.get_value()\n",
        "\n",
        "        self.player.set_score(player_first_card.get_value())\n",
        "        self.player.first_card = player_first_card.get_value()\n",
        "        \n",
        "        self.next_state = (self.dealer.first_card, self.player.score)\n",
        "\n",
        "        return (self.next_state, self.reward, self.done)\n",
        "    \n",
        "    def dealer_step(self):\n",
        "        self.dealer.hit()\n",
        "        self.reward = self.reward_func()\n",
        "        self.is_done()\n",
        "    \n",
        "    def player_step(self):\n",
        "        self.player.hit()\n",
        "        self.next_state = (self.dealer.first_card, self.player.score)\n",
        "        self.reward = self.reward_func()\n",
        "        self.is_done()\n",
        "        \n",
        "    def dealer_policy(self):\n",
        "        action = None\n",
        "        dealer_score = self.dealer.score\n",
        "        if dealer_score >= DEALER_THRESHOLD:\n",
        "            action = STICK\n",
        "        else:\n",
        "            action = HIT\n",
        "        return action\n",
        "    \n",
        "    def handel_two_sticks(self):\n",
        "        if self.dealer.score > self.player.score:\n",
        "            self.reward = -1\n",
        "        elif self.dealer.score < self.player.score:\n",
        "            self.reward = 1\n",
        "        else:\n",
        "            self.reward = 0\n",
        "    \n",
        "    def display_info(self, name, action):\n",
        "        if name == 'Player':\n",
        "            print('Player: ', action)\n",
        "            self.player.display_status()\n",
        "            print('------')\n",
        "            print('Dealer: not its turn yet')\n",
        "            self.dealer.display_status()\n",
        "        else:\n",
        "            print('Player: Sticked')\n",
        "            self.player.display_status()\n",
        "            print('------')\n",
        "            print('Dealer: ', action)\n",
        "            self.dealer.display_status()\n",
        "        print('reward:', self.reward, 'is_done:', self.done)\n",
        "        print()        \n",
        "    def re_init(self, dealer_first_card, player_score):\n",
        "        self.player.score = player_score\n",
        "        self.dealer.first_card = dealer_first_card\n",
        "        self.dealer.score = dealer_first_card\n",
        "\n",
        "    def step(self, state = None, player_action = -1):\n",
        "        dealer_first_card, player_score = state\n",
        "        self.re_init(dealer_first_card, player_score)\n",
        "        if not self.done:\n",
        "            self.time_step += 1\n",
        "            if player_action == HIT:\n",
        "                self.player_step()\n",
        "                if self.mode == 'debug':\n",
        "                    self.display_info('Player', player_action)\n",
        "            elif player_action == STICK:\n",
        "                while not(self.dealer.is_busted() or self.done):\n",
        "                    dealer_action = self.dealer_policy()\n",
        "                    if dealer_action == HIT:\n",
        "                        self.dealer_step()\n",
        "                    elif dealer_action == STICK:\n",
        "                        self.done = True\n",
        "                        self.handel_two_sticks()\n",
        "                    else:\n",
        "                        print('Unknown dealer action')\n",
        "                    if self.mode == 'debug':\n",
        "                        self.display_info('Dealer', dealer_action)\n",
        "            else:\n",
        "                print('Unkown player action')\n",
        "        else:\n",
        "            if self.mode == 'debug':\n",
        "                print('Game is over')\n",
        "        return (self.next_state, self.reward, self.done)"
      ],
      "execution_count": 0,
      "outputs": []
    },
    {
      "cell_type": "code",
      "metadata": {
        "scrolled": false,
        "id": "D9ZPbtjcm5hw",
        "colab_type": "code",
        "outputId": "7b8a463e-a54a-4279-a730-b938e89a6be5",
        "colab": {
          "base_uri": "https://localhost:8080/",
          "height": 844
        }
      },
      "source": [
        "env = Environment(mode = 'debug')\n",
        "next_state, reward, done = env.init()\n",
        "\n",
        "for i in range(100):\n",
        "    player_action = env.sample_action()\n",
        "    next_state, reward, done = env.step(next_state, player_action = 0)\n",
        "    if done:\n",
        "        break"
      ],
      "execution_count": 31,
      "outputs": [
        {
          "output_type": "stream",
          "text": [
            "Player:  0\n",
            "Score: 3\n",
            "Busted: False\n",
            "------\n",
            "Dealer: not its turn yet\n",
            "Score: 1\n",
            "Busted: False\n",
            "reward: 0 is_done: False\n",
            "\n",
            "Player:  0\n",
            "Score: 9\n",
            "Busted: False\n",
            "------\n",
            "Dealer: not its turn yet\n",
            "Score: 1\n",
            "Busted: False\n",
            "reward: 0 is_done: False\n",
            "\n",
            "Player:  0\n",
            "Score: 13\n",
            "Busted: False\n",
            "------\n",
            "Dealer: not its turn yet\n",
            "Score: 1\n",
            "Busted: False\n",
            "reward: 0 is_done: False\n",
            "\n",
            "Player:  0\n",
            "Score: 21\n",
            "Busted: False\n",
            "------\n",
            "Dealer: not its turn yet\n",
            "Score: 1\n",
            "Busted: False\n",
            "reward: 0 is_done: False\n",
            "\n",
            "Player:  0\n",
            "Score: 27\n",
            "Busted: True\n",
            "------\n",
            "Dealer: not its turn yet\n",
            "Score: 1\n",
            "Busted: False\n",
            "reward: -1 is_done: True\n",
            "\n"
          ],
          "name": "stdout"
        }
      ]
    },
    {
      "cell_type": "code",
      "metadata": {
        "id": "_DfKM1zquJhR",
        "colab_type": "code",
        "colab": {}
      },
      "source": [
        ""
      ],
      "execution_count": 0,
      "outputs": []
    }
  ]
}
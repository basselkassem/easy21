{
  "nbformat": 4,
  "nbformat_minor": 0,
  "metadata": {
    "kernelspec": {
      "display_name": "Python 3",
      "language": "python",
      "name": "python3"
    },
    "language_info": {
      "codemirror_mode": {
        "name": "ipython",
        "version": 3
      },
      "file_extension": ".py",
      "mimetype": "text/x-python",
      "name": "python",
      "nbconvert_exporter": "python",
      "pygments_lexer": "ipython3",
      "version": "3.6.8"
    },
    "toc": {
      "base_numbering": 1,
      "nav_menu": {},
      "number_sections": true,
      "sideBar": true,
      "skip_h1_title": false,
      "title_cell": "Table of Contents",
      "title_sidebar": "Contents",
      "toc_cell": false,
      "toc_position": {},
      "toc_section_display": true,
      "toc_window_display": false
    },
    "colab": {
      "name": "environment.ipynb",
      "provenance": [],
      "collapsed_sections": [],
      "include_colab_link": true
    }
  },
  "cells": [
    {
      "cell_type": "markdown",
      "metadata": {
        "id": "view-in-github",
        "colab_type": "text"
      },
      "source": [
        "<a href=\"https://colab.research.google.com/github/basselkassem/easy21/blob/master/environment.ipynb\" target=\"_parent\"><img src=\"https://colab.research.google.com/assets/colab-badge.svg\" alt=\"Open In Colab\"/></a>"
      ]
    },
    {
      "cell_type": "markdown",
      "metadata": {
        "id": "aF63eKq4suIk",
        "colab_type": "text"
      },
      "source": [
        "# Import Libs"
      ]
    },
    {
      "cell_type": "code",
      "metadata": {
        "id": "kjMk4Dytm5hd",
        "colab_type": "code",
        "colab": {}
      },
      "source": [
        "import numpy as np\n",
        "import matplotlib.pyplot as plt"
      ],
      "execution_count": 0,
      "outputs": []
    },
    {
      "cell_type": "markdown",
      "metadata": {
        "id": "fswe_6Tfsz8S",
        "colab_type": "text"
      },
      "source": [
        "#Card Class"
      ]
    },
    {
      "cell_type": "code",
      "metadata": {
        "id": "7dhKpsy4tBop",
        "colab_type": "code",
        "colab": {}
      },
      "source": [
        "class Card:\n",
        "    def __init__(self, value, color):\n",
        "        self.value = value\n",
        "        self.color = color\n",
        "        \n",
        "    def display(self):\n",
        "        print('color:', self.color, 'value:', self.value)\n",
        "        \n",
        "    def get_value(self):\n",
        "        if self.color == 'red':\n",
        "            return -self.value\n",
        "        else:\n",
        "            return self.value"
      ],
      "execution_count": 0,
      "outputs": []
    },
    {
      "cell_type": "markdown",
      "metadata": {
        "id": "d_99PodGs5RV",
        "colab_type": "text"
      },
      "source": [
        "#CardDeck Class"
      ]
    },
    {
      "cell_type": "code",
      "metadata": {
        "id": "IID25fMztEed",
        "colab_type": "code",
        "colab": {}
      },
      "source": [
        "class CardDeck:\n",
        "    def __init__(self):\n",
        "        pass\n",
        "    \n",
        "    @staticmethod\n",
        "    def draw():\n",
        "        red_card_prop = 1 / 3\n",
        "        color = ''\n",
        "        if np.random.random() < red_card_prop:\n",
        "            color = 'red'\n",
        "        else:\n",
        "            color = 'black'\n",
        "        value = np.random.randint(1, 10)\n",
        "        card = Card(value, color)\n",
        "        return card\n",
        "    \n",
        "    @staticmethod\n",
        "    def draw_black_card():\n",
        "        color = 'black'\n",
        "        value = np.random.randint(1, 10)\n",
        "        card = Card(value, color)\n",
        "        return card"
      ],
      "execution_count": 0,
      "outputs": []
    },
    {
      "cell_type": "markdown",
      "metadata": {
        "id": "Ewh1SrEEs5os",
        "colab_type": "text"
      },
      "source": [
        "#Player Class"
      ]
    },
    {
      "cell_type": "code",
      "metadata": {
        "id": "e8Mb8_YctRpN",
        "colab_type": "code",
        "colab": {}
      },
      "source": [
        "class Player:\n",
        "    def __init__(self):\n",
        "        self.cards = []\n",
        "        self.score = 0\n",
        "        self.busted = False\n",
        "\n",
        "    def stick(self):\n",
        "        pass\n",
        "\n",
        "    def hit(self, score):\n",
        "        new_card = CardDeck.draw()\n",
        "        self.add_card(new_card)\n",
        "        self.score = score + new_card.get_value()\n",
        "        \n",
        "    def compute_score(self):\n",
        "        score = np.sum([card.get_value() for card in self.cards])\n",
        "        return score\n",
        "\n",
        "    def is_busted(self):\n",
        "        score = self.score\n",
        "        if score < 1 or score > 21:\n",
        "            self.busted = True\n",
        "        else:\n",
        "            self.busted =  False\n",
        "        return self.busted\n",
        "    \n",
        "    def add_card(self, card):\n",
        "        if card != None:\n",
        "            self.cards.append(card)\n",
        "        else:\n",
        "            print('Can not add null card to player')\n",
        "            \n",
        "    def display_status(self):\n",
        "        card_values = [card.get_value() for card in self.cards]\n",
        "        print(card_values, ':', self.score)\n",
        "        self.is_busted()\n",
        "        print('Busted:', self.busted)"
      ],
      "execution_count": 0,
      "outputs": []
    },
    {
      "cell_type": "markdown",
      "metadata": {
        "id": "3YoyZAnEs55-",
        "colab_type": "text"
      },
      "source": [
        "# State Class"
      ]
    },
    {
      "cell_type": "code",
      "metadata": {
        "id": "rA0Na6Q2tW5L",
        "colab_type": "code",
        "colab": {}
      },
      "source": [
        "class State:\n",
        "    def __init__(self, dealer_first_card, player_score):\n",
        "        self.dealer_first_card = dealer_first_card\n",
        "        self.player_score = player_score\n",
        "        \n",
        "    def is_terminal(self):\n",
        "        if self.player_score < 1 or self.player_score > 21:\n",
        "            return True\n",
        "        else:\n",
        "            return False\n",
        "\n",
        "    def display(self):\n",
        "        print('Dealer first card:')\n",
        "        self.dealer_first_card.display()\n",
        "        print('Player Score:', self.player_score)\n"
      ],
      "execution_count": 0,
      "outputs": []
    },
    {
      "cell_type": "markdown",
      "metadata": {
        "id": "fQkQbsVALhfc",
        "colab_type": "text"
      },
      "source": [
        "# Action Class"
      ]
    },
    {
      "cell_type": "code",
      "metadata": {
        "id": "QBpyfkl2LlB3",
        "colab_type": "code",
        "colab": {}
      },
      "source": [
        "class Action:\n",
        "    def __init__(self, index):\n",
        "        self.index = index\n",
        "        if index == 0:\n",
        "            self.name = 'hit'\n",
        "        elif index == 1:\n",
        "            self.name = 'stick'\n",
        "        else:\n",
        "            self.name = 'unknown'\n",
        "\n",
        "hit = Action(0)\n",
        "stick = Action(1)"
      ],
      "execution_count": 0,
      "outputs": []
    },
    {
      "cell_type": "markdown",
      "metadata": {
        "id": "w9Jz4yops6Jz",
        "colab_type": "text"
      },
      "source": [
        "# Environment Class"
      ]
    },
    {
      "cell_type": "code",
      "metadata": {
        "id": "C4OQIRjim5hm",
        "colab_type": "code",
        "colab": {}
      },
      "source": [
        "class Environment:\n",
        "\n",
        "    def __init__(self):\n",
        "        self.dealer = Player()\n",
        "        self.player = Player()\n",
        "        self.next_state = None\n",
        "        self.reward = 0\n",
        "        self.time_step = 0\n",
        "        self.done = False\n",
        "    \n",
        "    def sample_action(self):\n",
        "        return np.random.randint(hit.index, stick.index + 1)\n",
        "        \n",
        "    def reward_func(self):\n",
        "        if self.player.is_busted():\n",
        "            return -1\n",
        "        if self.dealer.is_busted():\n",
        "            return 1\n",
        "        return 0\n",
        "    \n",
        "    def is_done(self):\n",
        "        if len(self.player.cards) > 0 and len(self.dealer.cards) > 0:\n",
        "            if self.player.is_busted() or self.dealer.is_busted():\n",
        "                self.done = True\n",
        "            else:\n",
        "                self.done = False\n",
        "        return self.done\n",
        "    \n",
        "    def init(self):\n",
        "        player_first_card = CardDeck.draw_black_card()\n",
        "        dealer_first_card = CardDeck.draw_black_card()\n",
        "        \n",
        "        self.dealer.cards.append(dealer_first_card)\n",
        "        self.dealer.score = dealer_first_card.get_value()\n",
        "\n",
        "        self.player.cards.append(player_first_card)\n",
        "        self.player.score = player_first_card.get_value()\n",
        "        \n",
        "        new_state = State(dealer_first_card, self.player.score)\n",
        "        self.next_state = new_state\n",
        "\n",
        "        return (self.next_state, self.reward, self.done)\n",
        "    \n",
        "    def dealer_step(self, score):\n",
        "        self.dealer.hit(score)\n",
        "        self.reward = self.reward_func()\n",
        "        self.is_done()\n",
        "    \n",
        "    def player_step(self, score):\n",
        "        self.player.hit(score)\n",
        "        new_state = State(self.dealer.cards[0], self.player.score)\n",
        "        self.next_state = new_state\n",
        "        self.reward = self.reward_func()\n",
        "        self.is_done()\n",
        "        \n",
        "    def dealer_policy(self):\n",
        "        action = None\n",
        "        dealer_score = self.dealer.score\n",
        "        if dealer_score >= 17:\n",
        "            action = stick\n",
        "        else:\n",
        "            action = hit\n",
        "        return action\n",
        "    \n",
        "    def handel_two_sticks(self):\n",
        "        if self.dealer.score > self.player.score:\n",
        "            self.reward = -1\n",
        "        elif self.dealer.score < self.player.score:\n",
        "            self.reward = 1\n",
        "        else:\n",
        "            self.reward = 0\n",
        "    \n",
        "    def display_info(self, name, action):\n",
        "        if name == 'Player':\n",
        "            print('Player: ', action.name)\n",
        "            self.player.display_status()\n",
        "            print('Dealer: not its turn yet')\n",
        "            self.dealer.display_status()\n",
        "        else:\n",
        "            print('Player: Sticked')\n",
        "            self.player.display_status()\n",
        "            print('Dealer: ', action.name)\n",
        "            self.dealer.display_status()\n",
        "        print('reward:', self.reward, 'is_done:', self.done)\n",
        "        print()        \n",
        "    \n",
        "    def step(self, state = None, player_action = -1):\n",
        "        dealer_first_card = state.dealer_first_card\n",
        "        player_score = state.player_score\n",
        "        if not self.done:\n",
        "            self.time_step += 1\n",
        "            if player_action == hit.index:\n",
        "                self.player_step(player_score)\n",
        "                self.display_info('Player', Action(player_action))\n",
        "            elif player_action == stick.index:\n",
        "                self.dealer.score = dealer_first_card.get_value()\n",
        "                while not(self.dealer.is_busted() or self.done):\n",
        "                    dealer_action = self.dealer_policy()\n",
        "                    if dealer_action.index == hit.index:\n",
        "                        score = self.dealer.score\n",
        "                        self.dealer_step(score)\n",
        "                    elif dealer_action.index == stick.index:\n",
        "                        self.done = True\n",
        "                        self.handel_two_sticks()\n",
        "                    else:\n",
        "                        print('Unknown dealer action')\n",
        "                    self.display_info('Dealer', dealer_action)\n",
        "            else:\n",
        "                print('Unkown player action')\n",
        "        else:\n",
        "            print('Game is over')\n",
        "        return (self.next_state, self.reward, self.done)"
      ],
      "execution_count": 0,
      "outputs": []
    },
    {
      "cell_type": "code",
      "metadata": {
        "scrolled": false,
        "id": "D9ZPbtjcm5hw",
        "colab_type": "code",
        "outputId": "3ec947d8-3b32-40bc-8497-f6dab4f292cc",
        "colab": {
          "base_uri": "https://localhost:8080/",
          "height": 467
        }
      },
      "source": [
        "env = Environment()\n",
        "next_state, reward, done = env.init()\n",
        "for i in range(100):\n",
        "    player_action = env.sample_action()\n",
        "    next_state, reward, done = env.step(next_state, player_action)\n",
        "    if done:\n",
        "        break"
      ],
      "execution_count": 135,
      "outputs": [
        {
          "output_type": "stream",
          "text": [
            "Player: Sticked\n",
            "[5] : 5\n",
            "Busted: False\n",
            "Dealer:  hit\n",
            "[1, 6] : 7\n",
            "Busted: False\n",
            "reward: 0 is_done: False\n",
            "\n",
            "Player: Sticked\n",
            "[5] : 5\n",
            "Busted: False\n",
            "Dealer:  hit\n",
            "[1, 6, 7] : 14\n",
            "Busted: False\n",
            "reward: 0 is_done: False\n",
            "\n",
            "Player: Sticked\n",
            "[5] : 5\n",
            "Busted: False\n",
            "Dealer:  hit\n",
            "[1, 6, 7, 8] : 22\n",
            "Busted: True\n",
            "reward: 1 is_done: True\n",
            "\n"
          ],
          "name": "stdout"
        }
      ]
    },
    {
      "cell_type": "code",
      "metadata": {
        "id": "_DfKM1zquJhR",
        "colab_type": "code",
        "colab": {}
      },
      "source": [
        ""
      ],
      "execution_count": 0,
      "outputs": []
    }
  ]
}
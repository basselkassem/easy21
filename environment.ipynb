{
  "nbformat": 4,
  "nbformat_minor": 0,
  "metadata": {
    "kernelspec": {
      "display_name": "Python 3",
      "language": "python",
      "name": "python3"
    },
    "language_info": {
      "codemirror_mode": {
        "name": "ipython",
        "version": 3
      },
      "file_extension": ".py",
      "mimetype": "text/x-python",
      "name": "python",
      "nbconvert_exporter": "python",
      "pygments_lexer": "ipython3",
      "version": "3.6.8"
    },
    "toc": {
      "base_numbering": 1,
      "nav_menu": {},
      "number_sections": true,
      "sideBar": true,
      "skip_h1_title": false,
      "title_cell": "Table of Contents",
      "title_sidebar": "Contents",
      "toc_cell": false,
      "toc_position": {},
      "toc_section_display": true,
      "toc_window_display": false
    },
    "colab": {
      "name": "environment.ipynb",
      "provenance": [],
      "include_colab_link": true
    }
  },
  "cells": [
    {
      "cell_type": "markdown",
      "metadata": {
        "id": "view-in-github",
        "colab_type": "text"
      },
      "source": [
        "<a href=\"https://colab.research.google.com/github/basselkassem/easy21/blob/master/environment.ipynb\" target=\"_parent\"><img src=\"https://colab.research.google.com/assets/colab-badge.svg\" alt=\"Open In Colab\"/></a>"
      ]
    },
    {
      "cell_type": "markdown",
      "metadata": {
        "id": "aF63eKq4suIk",
        "colab_type": "text"
      },
      "source": [
        "# import Libs"
      ]
    },
    {
      "cell_type": "code",
      "metadata": {
        "id": "kjMk4Dytm5hd",
        "colab_type": "code",
        "colab": {}
      },
      "source": [
        "import numpy as np\n",
        "import matplotlib.pyplot as plt"
      ],
      "execution_count": 0,
      "outputs": []
    },
    {
      "cell_type": "markdown",
      "metadata": {
        "id": "fswe_6Tfsz8S",
        "colab_type": "text"
      },
      "source": [
        "#Card Class"
      ]
    },
    {
      "cell_type": "code",
      "metadata": {
        "id": "7dhKpsy4tBop",
        "colab_type": "code",
        "colab": {}
      },
      "source": [
        "class Card:\n",
        "    def __init__(self, value, color):\n",
        "        self.value = value\n",
        "        self.color = color\n",
        "        \n",
        "    def display(self):\n",
        "        print('color:', self.color, 'value:', self.value)\n",
        "        \n",
        "    def get_value(self):\n",
        "        if self.color == 'red':\n",
        "            return -self.value\n",
        "        else:\n",
        "            return self.value"
      ],
      "execution_count": 0,
      "outputs": []
    },
    {
      "cell_type": "markdown",
      "metadata": {
        "id": "d_99PodGs5RV",
        "colab_type": "text"
      },
      "source": [
        "#CardDeck Class"
      ]
    },
    {
      "cell_type": "code",
      "metadata": {
        "id": "IID25fMztEed",
        "colab_type": "code",
        "colab": {}
      },
      "source": [
        "class CardDeck:\n",
        "    def __init__(self):\n",
        "        pass\n",
        "    \n",
        "    @staticmethod\n",
        "    def draw():\n",
        "        red_card_prop = 1 / 3\n",
        "        color = ''\n",
        "        if np.random.random() < red_card_prop:\n",
        "            color = 'red'\n",
        "        else:\n",
        "            color = 'black'\n",
        "        value = np.random.randint(1, 10)\n",
        "        card = Card(value, color)\n",
        "        return card\n",
        "    \n",
        "    @staticmethod\n",
        "    def draw_black_card():\n",
        "        color = 'black'\n",
        "        value = np.random.randint(1, 10)\n",
        "        card = Card(value, color)\n",
        "        return card"
      ],
      "execution_count": 0,
      "outputs": []
    },
    {
      "cell_type": "markdown",
      "metadata": {
        "id": "Ewh1SrEEs5os",
        "colab_type": "text"
      },
      "source": [
        "#Player Class"
      ]
    },
    {
      "cell_type": "code",
      "metadata": {
        "id": "e8Mb8_YctRpN",
        "colab_type": "code",
        "colab": {}
      },
      "source": [
        "class Player:\n",
        "    def __init__(self):\n",
        "        self.cards = []\n",
        "        self.value = 0\n",
        "        self.busted = False\n",
        "    def stick(self):\n",
        "        pass\n",
        "    def hit(self):\n",
        "        new_card = CardDeck.draw()\n",
        "        self.add_card(new_card)\n",
        "        self.compute_value()\n",
        "        \n",
        "    def compute_value(self):\n",
        "        values = [card.get_value() for card in self.cards]\n",
        "        self.value = np.sum(values)\n",
        "        return self.value\n",
        "\n",
        "    def is_busted(self):\n",
        "        value = self.compute_value()\n",
        "        if value < 1 or value > 21:\n",
        "            self.busted = True\n",
        "        else:\n",
        "            self.busted =  False\n",
        "        return self.busted\n",
        "    \n",
        "    def add_card(self, card):\n",
        "        if card != None:\n",
        "            self.cards.append(card)\n",
        "        else:\n",
        "            print('Can not add card to player')\n",
        "            \n",
        "    def display_status(self):\n",
        "        self.compute_value()\n",
        "        cards = [card.get_value() for card in self.cards]\n",
        "        print(cards, ':', self.value)\n",
        "        self.is_busted()\n",
        "        print('Busted:', self.busted)"
      ],
      "execution_count": 0,
      "outputs": []
    },
    {
      "cell_type": "markdown",
      "metadata": {
        "id": "3YoyZAnEs55-",
        "colab_type": "text"
      },
      "source": [
        "# State Class"
      ]
    },
    {
      "cell_type": "code",
      "metadata": {
        "id": "rA0Na6Q2tW5L",
        "colab_type": "code",
        "colab": {}
      },
      "source": [
        "class State:\n",
        "    def __init__(self, dealer_first_card, player_value):\n",
        "        self.dealer_first_card = dealer_first_card\n",
        "        self.player_value = player_value\n",
        "        \n",
        "    def is_terminal(self):\n",
        "        if self.player_value < 1 or self.player_value > 21:\n",
        "            return True\n",
        "        else:\n",
        "            return False\n",
        "    def display(self):\n",
        "        print('Dealer first card:')\n",
        "        self.dealer_first_card.display()\n",
        "        print('Player value:', self.player_value)\n"
      ],
      "execution_count": 0,
      "outputs": []
    },
    {
      "cell_type": "markdown",
      "metadata": {
        "id": "w9Jz4yops6Jz",
        "colab_type": "text"
      },
      "source": [
        "# Environment Class"
      ]
    },
    {
      "cell_type": "code",
      "metadata": {
        "id": "C4OQIRjim5hm",
        "colab_type": "code",
        "colab": {}
      },
      "source": [
        "class Environment:\n",
        "    def __init__(self):\n",
        "        self.dealer = Player()\n",
        "        self.player = Player()\n",
        "        self.next_state = None\n",
        "        self.reward = 0\n",
        "        self.time_step = 0\n",
        "        self.done = False\n",
        "        self.ACTIONS_DIC = {'hit': 0, 'stick': 1}\n",
        "        self.player_sticked = False\n",
        "        self.dealer_sticked = False\n",
        "    \n",
        "    def sample_action(self):\n",
        "        return np.random.randint(2)\n",
        "        \n",
        "    def reward_func(self):\n",
        "        if self.player.is_busted():\n",
        "            return -1\n",
        "        if self.dealer.is_busted():\n",
        "            return 1\n",
        "        return 0\n",
        "    \n",
        "    def is_done(self):\n",
        "        if self.player.is_busted() or self.dealer.is_busted():\n",
        "            self.done = True\n",
        "        else:\n",
        "            self.done = False\n",
        "        return self.done\n",
        "    \n",
        "    def first_step(self):\n",
        "        player_first_card = CardDeck.draw_black_card()\n",
        "        dealer_first_card = CardDeck.draw_black_card()\n",
        "        \n",
        "        self.dealer.cards.append(dealer_first_card)\n",
        "        self.player.cards.append(player_first_card)\n",
        "        \n",
        "        player_value = self.player.compute_value()\n",
        "        new_state = State(dealer_first_card, player_value)\n",
        "        self.next_state = new_state\n",
        "        \n",
        "        self.reward = self.reward_func()\n",
        "        \n",
        "        self.is_done()\n",
        "    \n",
        "    def dealer_step(self):\n",
        "        self.dealer.hit()  \n",
        "        self.reward = self.reward_func()\n",
        "        self.is_done()\n",
        "    \n",
        "    def player_step(self):\n",
        "        self.player.hit()\n",
        "    \n",
        "        new_state = State(self.dealer.cards[0], self.player.value)\n",
        "        self.next_state = new_state\n",
        "        self.reward = self.reward_func()\n",
        "        self.is_done()\n",
        "        \n",
        "    \n",
        "    def dealer_policy(self):\n",
        "        action = -1\n",
        "        dealer_value = self.dealer.compute_value()\n",
        "        if dealer_value >= 17:\n",
        "            action = self.ACTIONS_DIC['stick']\n",
        "        else:\n",
        "            action = self.ACTIONS_DIC['hit']\n",
        "        return action\n",
        "    \n",
        "    def handel_two_sticks(self):\n",
        "        self.done = True\n",
        "        dealer_value = self.dealer.compute_value()\n",
        "        player_value = self.player.compute_value()\n",
        "        if dealer_value > player_value:\n",
        "            self.reward = -1\n",
        "        elif dealer_value < player_value:\n",
        "            self.reward = 1\n",
        "        else:\n",
        "            self.reward = 0\n",
        "    \n",
        "    def display_info(self, player_action, dealer_action):\n",
        "        print('Player: ', list(self.ACTIONS_DIC.keys())[player_action])\n",
        "        self.player.display_status()\n",
        "        print('Dealer: ', list(self.ACTIONS_DIC.keys())[dealer_action])\n",
        "        self.dealer.display_status()\n",
        "        print('reward:', self.reward, 'is_done:', self.done)\n",
        "        print()        \n",
        "    \n",
        "    def step(self, state = None, player_action = -1):\n",
        "        self.time_step += 1\n",
        "        dealer_action = self.dealer_policy()\n",
        "        if self.time_step == 1:\n",
        "            self.first_step()\n",
        "        elif not self.is_done():\n",
        "            if player_action == self.ACTIONS_DIC['stick']:\n",
        "                self.player_sticked = True\n",
        "                if dealer_action == self.ACTIONS_DIC['hit']:\n",
        "                    if not self.dealer_sticked:\n",
        "                        self.dealer_step()\n",
        "                else:\n",
        "                    self.dealer_sticked = True\n",
        "                    self.handel_two_sticks()\n",
        "            elif player_action == self.ACTIONS_DIC['hit']:\n",
        "                if not self.player_sticked:\n",
        "                    self.player_step()\n",
        "            else:\n",
        "                print('Unkown action')\n",
        "        else:\n",
        "            print('Game is done')\n",
        "        self.display_info(player_action, dealer_action)       \n",
        "        return (self.next_state, self.reward, self.done)\n",
        "            "
      ],
      "execution_count": 0,
      "outputs": []
    },
    {
      "cell_type": "code",
      "metadata": {
        "scrolled": false,
        "id": "D9ZPbtjcm5hw",
        "colab_type": "code",
        "colab": {
          "base_uri": "https://localhost:8080/",
          "height": 317
        },
        "outputId": "f1db4096-17a6-4afd-bbc9-cf6286cd0b2d"
      },
      "source": [
        "env = Environment()\n",
        "arr = []\n",
        "for i in range(100):\n",
        "    player_action = env.sample_action()\n",
        "    next_state, reward, done = env.step(player_action = player_action)\n",
        "    if done:\n",
        "        break\n",
        "    #next_state.display()  \n"
      ],
      "execution_count": 22,
      "outputs": [
        {
          "output_type": "stream",
          "text": [
            "Player:  hit\n",
            "[5] : 5\n",
            "Busted: False\n",
            "Dealer:  hit\n",
            "[3] : 3\n",
            "Busted: False\n",
            "reward: 0 is_done: False\n",
            "\n",
            "Player:  stick\n",
            "[5] : 5\n",
            "Busted: False\n",
            "Dealer:  hit\n",
            "[3, -8] : -5\n",
            "Busted: True\n",
            "reward: 1 is_done: True\n",
            "\n"
          ],
          "name": "stdout"
        }
      ]
    },
    {
      "cell_type": "code",
      "metadata": {
        "id": "_DfKM1zquJhR",
        "colab_type": "code",
        "colab": {}
      },
      "source": [
        ""
      ],
      "execution_count": 0,
      "outputs": []
    }
  ]
}
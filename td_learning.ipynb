{
  "nbformat": 4,
  "nbformat_minor": 0,
  "metadata": {
    "colab": {
      "name": "td-learning",
      "provenance": [],
      "authorship_tag": "ABX9TyOv5lR4xS5m7dPI5mMeTgs+",
      "include_colab_link": true
    },
    "kernelspec": {
      "name": "python3",
      "display_name": "Python 3"
    }
  },
  "cells": [
    {
      "cell_type": "markdown",
      "metadata": {
        "id": "view-in-github",
        "colab_type": "text"
      },
      "source": [
        "<a href=\"https://colab.research.google.com/github/basselkassem/easy21/blob/master/td_learning.ipynb\" target=\"_parent\"><img src=\"https://colab.research.google.com/assets/colab-badge.svg\" alt=\"Open In Colab\"/></a>"
      ]
    },
    {
      "cell_type": "markdown",
      "metadata": {
        "id": "LDXqj5Ui7uvp",
        "colab_type": "text"
      },
      "source": [
        "# Install Libs"
      ]
    },
    {
      "cell_type": "code",
      "metadata": {
        "id": "yzKrOjc04ocB",
        "colab_type": "code",
        "outputId": "1264cddc-e09e-4f24-9328-76edb9d88e19",
        "colab": {
          "base_uri": "https://localhost:8080/",
          "height": 202
        }
      },
      "source": [
        "!pip install import_ipynb"
      ],
      "execution_count": 1,
      "outputs": [
        {
          "output_type": "stream",
          "text": [
            "Collecting import_ipynb\n",
            "  Downloading https://files.pythonhosted.org/packages/63/35/495e0021bfdcc924c7cdec4e9fbb87c88dd03b9b9b22419444dc370c8a45/import-ipynb-0.1.3.tar.gz\n",
            "Building wheels for collected packages: import-ipynb\n",
            "  Building wheel for import-ipynb (setup.py) ... \u001b[?25l\u001b[?25hdone\n",
            "  Created wheel for import-ipynb: filename=import_ipynb-0.1.3-cp36-none-any.whl size=2976 sha256=c490330e3c0b83dfb04af66e1de57ca553886ac90c3ce8c744a66aa337802c77\n",
            "  Stored in directory: /root/.cache/pip/wheels/b4/7b/e9/a3a6e496115dffdb4e3085d0ae39ffe8a814eacc44bbf494b5\n",
            "Successfully built import-ipynb\n",
            "Installing collected packages: import-ipynb\n",
            "Successfully installed import-ipynb-0.1.3\n"
          ],
          "name": "stdout"
        }
      ]
    },
    {
      "cell_type": "code",
      "metadata": {
        "id": "m-2hNAKy5x2g",
        "colab_type": "code",
        "outputId": "b139bd38-e67c-4661-a35d-7d50e492e476",
        "colab": {
          "base_uri": "https://localhost:8080/",
          "height": 147
        }
      },
      "source": [
        "from google.colab import drive\n",
        "drive.mount(\"/content/drive\", )\n",
        "%cd /content/drive/'My Drive'/'Colab Notebooks'/easy21"
      ],
      "execution_count": 2,
      "outputs": [
        {
          "output_type": "stream",
          "text": [
            "Go to this URL in a browser: https://accounts.google.com/o/oauth2/auth?client_id=947318989803-6bn6qk8qdgf4n4g3pfee6491hc0brc4i.apps.googleusercontent.com&redirect_uri=urn%3aietf%3awg%3aoauth%3a2.0%3aoob&response_type=code&scope=email%20https%3a%2f%2fwww.googleapis.com%2fauth%2fdocs.test%20https%3a%2f%2fwww.googleapis.com%2fauth%2fdrive%20https%3a%2f%2fwww.googleapis.com%2fauth%2fdrive.photos.readonly%20https%3a%2f%2fwww.googleapis.com%2fauth%2fpeopleapi.readonly\n",
            "\n",
            "Enter your authorization code:\n",
            "··········\n",
            "Mounted at /content/drive\n",
            "/content/drive/My Drive/Colab Notebooks/easy21\n"
          ],
          "name": "stdout"
        }
      ]
    },
    {
      "cell_type": "markdown",
      "metadata": {
        "id": "28IHzUyb5y17",
        "colab_type": "text"
      },
      "source": [
        "# Import Libs"
      ]
    },
    {
      "cell_type": "code",
      "metadata": {
        "id": "Y68TuPM8kTJo",
        "colab_type": "code",
        "colab": {}
      },
      "source": [
        "import import_ipynb\n",
        "import environment as env\n",
        "import numpy as np\n",
        "import matplotlib.pyplot as plt\n",
        "from collections import defaultdict\n",
        "import plotly.graph_objects as go\n",
        "from matplotlib import cm\n",
        "import plotly.figure_factory as FF\n",
        "from scipy.spatial import Delaunay"
      ],
      "execution_count": 0,
      "outputs": []
    },
    {
      "cell_type": "markdown",
      "metadata": {
        "id": "yNE6eIhLkr5D",
        "colab_type": "text"
      },
      "source": [
        "#Implementation of Sarsa(λ):\n",
        "\n",
        "* Initialise the value function to zero. \n",
        "* Use the same step-size and exploration schedules as in Monte-Carlo control. \n",
        "* Run the algorithm with parameter values λ = [0, 0.1, 0.2, ..., 1]. \n",
        "* Stop each run after 1000 episodes and report the mean-squared error sum(Q(s, a) − Q∗(s, a))2 over all states s and actions a, comparing the true values Q∗(s, a) computed in Monte-Carlo control with the estimated values Q(s, a) computed by Sarsa.\n",
        "* Plot the meansquared error against λ. For λ = 0 and λ = 1 only, plot the learning curve of mean-squared error against episode number."
      ]
    },
    {
      "cell_type": "markdown",
      "metadata": {
        "id": "purQNlpVoBze",
        "colab_type": "text"
      },
      "source": [
        "# Class Sarsa"
      ]
    },
    {
      "cell_type": "code",
      "metadata": {
        "id": "OGl1Q43Hl_M5",
        "colab_type": "code",
        "colab": {}
      },
      "source": [
        "class SarsaLambda:\n",
        "\n",
        "    def __init__(self):\n",
        "        pass\n",
        "        \n",
        "    def get_Ns(self):\n",
        "        pass\n",
        "    def epsilon_greedy(self):\n",
        "        pass\n",
        "    def agent_policy(self):\n",
        "        pass\n",
        "\n",
        "    def policy_evaluation(self):\n",
        "        pass\n",
        "\n",
        "    def ploicy_imporvment(self):\n",
        "        pass\n",
        "\n",
        "    def policy_iteration(self):\n",
        "        pass\n",
        "    "
      ],
      "execution_count": 0,
      "outputs": []
    }
  ]
}
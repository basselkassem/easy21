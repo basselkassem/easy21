{
  "nbformat": 4,
  "nbformat_minor": 0,
  "metadata": {
    "colab": {
      "name": "game_config.ipynb",
      "provenance": [],
      "collapsed_sections": [
        "NfEq6sPSDZAH"
      ],
      "authorship_tag": "ABX9TyPqCLJF0HJLVKB6dhOczhQp",
      "include_colab_link": true
    },
    "kernelspec": {
      "name": "python3",
      "display_name": "Python 3"
    }
  },
  "cells": [
    {
      "cell_type": "markdown",
      "metadata": {
        "id": "view-in-github",
        "colab_type": "text"
      },
      "source": [
        "<a href=\"https://colab.research.google.com/github/basselkassem/easy21/blob/master/game_config.ipynb\" target=\"_parent\"><img src=\"https://colab.research.google.com/assets/colab-badge.svg\" alt=\"Open In Colab\"/></a>"
      ]
    },
    {
      "cell_type": "code",
      "metadata": {
        "id": "h5x2vb5_DlIM",
        "colab_type": "code",
        "colab": {}
      },
      "source": [
        "import numpy as np"
      ],
      "execution_count": 0,
      "outputs": []
    },
    {
      "cell_type": "markdown",
      "metadata": {
        "id": "tm1PASr6C5BT",
        "colab_type": "text"
      },
      "source": [
        "# Episodes number"
      ]
    },
    {
      "cell_type": "code",
      "metadata": {
        "id": "PJQYbXrbC-LV",
        "colab_type": "code",
        "colab": {
          "base_uri": "https://localhost:8080/",
          "height": 35
        },
        "outputId": "0d4ea9f8-eb51-4dec-839c-fc7a490c3429"
      },
      "source": [
        "EPISODES_NUMS = np.array([10**2, 10**3, 10**4,10**5])\n",
        "print(EPISODES_NUMS)"
      ],
      "execution_count": 2,
      "outputs": [
        {
          "output_type": "stream",
          "text": [
            "[100, 1000, 10000, 100000]\n"
          ],
          "name": "stdout"
        }
      ]
    },
    {
      "cell_type": "markdown",
      "metadata": {
        "id": "OU3ttGt6DAsq",
        "colab_type": "text"
      },
      "source": [
        "# Maximum score to lose"
      ]
    },
    {
      "cell_type": "code",
      "metadata": {
        "id": "ZiGmPtL2DKyt",
        "colab_type": "code",
        "colab": {}
      },
      "source": [
        "MAX_VALUE = 21"
      ],
      "execution_count": 0,
      "outputs": []
    },
    {
      "cell_type": "markdown",
      "metadata": {
        "id": "z5mwyDHZDMyD",
        "colab_type": "text"
      },
      "source": [
        "# Minimum score to lose"
      ]
    },
    {
      "cell_type": "code",
      "metadata": {
        "id": "yoQe0LsMCbJI",
        "colab_type": "code",
        "colab": {}
      },
      "source": [
        "MIN_VALUE = 1"
      ],
      "execution_count": 0,
      "outputs": []
    },
    {
      "cell_type": "markdown",
      "metadata": {
        "id": "S_ltJFQ4LEAB",
        "colab_type": "text"
      },
      "source": [
        "# Maximum of the cards values"
      ]
    },
    {
      "cell_type": "code",
      "metadata": {
        "id": "vThpxuOULWNB",
        "colab_type": "code",
        "colab": {}
      },
      "source": [
        "CARD_VALUE_MAX = 10"
      ],
      "execution_count": 0,
      "outputs": []
    },
    {
      "cell_type": "markdown",
      "metadata": {
        "id": "DffIXmKrLTFL",
        "colab_type": "text"
      },
      "source": [
        "# Minimum of the cards values"
      ]
    },
    {
      "cell_type": "code",
      "metadata": {
        "id": "rT4BSOCYLe9W",
        "colab_type": "code",
        "colab": {}
      },
      "source": [
        "CARD_VALUE_MIN = 1"
      ],
      "execution_count": 0,
      "outputs": []
    },
    {
      "cell_type": "markdown",
      "metadata": {
        "id": "NKcKlnLGS4Pj",
        "colab_type": "text"
      },
      "source": [
        "# Maximum score for dealer to stick"
      ]
    },
    {
      "cell_type": "code",
      "metadata": {
        "id": "ICxgAxoBTC2c",
        "colab_type": "code",
        "colab": {}
      },
      "source": [
        "DEALER_THRESHOLD = 17"
      ],
      "execution_count": 0,
      "outputs": []
    },
    {
      "cell_type": "markdown",
      "metadata": {
        "id": "NfEq6sPSDZAH",
        "colab_type": "text"
      },
      "source": [
        "# Action space"
      ]
    },
    {
      "cell_type": "code",
      "metadata": {
        "id": "PUsiO8PpDSZf",
        "colab_type": "code",
        "colab": {
          "base_uri": "https://localhost:8080/",
          "height": 35
        },
        "outputId": "3de21d3c-51f4-4872-92a7-66a32448134d"
      },
      "source": [
        "HIT = 0\n",
        "STICK = 1\n",
        "ACTION_SPACE = np.array([HIT, STICK])\n",
        "print(ACTION_SPACE)"
      ],
      "execution_count": 15,
      "outputs": [
        {
          "output_type": "stream",
          "text": [
            "[0 1]\n"
          ],
          "name": "stdout"
        }
      ]
    },
    {
      "cell_type": "markdown",
      "metadata": {
        "id": "D1zUM1j1Dwuw",
        "colab_type": "text"
      },
      "source": [
        "# State Space\n",
        "The **state** is represented as a 2D array\n",
        "*   rows represent the dealer first card\n",
        "*   columns represent the player's score\n",
        "\n"
      ]
    },
    {
      "cell_type": "code",
      "metadata": {
        "id": "bANuSS5GDjhQ",
        "colab_type": "code",
        "colab": {
          "base_uri": "https://localhost:8080/",
          "height": 72
        },
        "outputId": "3a5b9b3b-6f6e-4146-f6c9-dc39c273d3c4"
      },
      "source": [
        "DEALER_FIRST_CARD_SPACE = np.arange(CARD_VALUE_MIN, CARD_VALUE_MAX + 1)\n",
        "print(DEALER_FIRST_CARD_SPACE, DEALER_FIRST_CARD_SPACE.shape )\n",
        "PLAYER_SOCRE = np.arange(MIN_VALUE, MAX_VALUE + 1)\n",
        "print(PLAYER_SOCRE, PLAYER_SOCRE.shape)\n",
        "STATE_SPACE_SHAPE = (len(DEALER_FIRST_CARD_SPACE), len(PLAYER_SOCRE),)\n",
        "print(STATE_SPACE_SHAPE)"
      ],
      "execution_count": 8,
      "outputs": [
        {
          "output_type": "stream",
          "text": [
            "[ 1  2  3  4  5  6  7  8  9 10] (10,)\n",
            "[ 1  2  3  4  5  6  7  8  9 10 11 12 13 14 15 16 17 18 19 20 21] (21,)\n",
            "(10, 21)\n"
          ],
          "name": "stdout"
        }
      ]
    },
    {
      "cell_type": "markdown",
      "metadata": {
        "id": "BPuwREs8IMZF",
        "colab_type": "text"
      },
      "source": [
        "# Action-State Space\n",
        "The **Action-State** is represented as a 3D array\n",
        "\n",
        "\n",
        "*   1th-D represents the dealer first card\n",
        "*   2nd-D represent the player's score\n",
        "*   3th-D represent the action\n",
        "\n",
        "\n",
        "\n",
        "    \n",
        "    \n"
      ]
    },
    {
      "cell_type": "code",
      "metadata": {
        "id": "Lz0fe8ReILqj",
        "colab_type": "code",
        "colab": {
          "base_uri": "https://localhost:8080/",
          "height": 35
        },
        "outputId": "3d5b685c-8d96-47e9-bf45-93bd167caeaf"
      },
      "source": [
        "ACTION_STATE_SPACE_SHAPE = (len(DEALER_FIRST_CARD_SPACE), len(PLAYER_SOCRE), len(ACTION_SPACE))\n",
        "print(ACTION_STATE_SPACE_SHAPE)"
      ],
      "execution_count": 9,
      "outputs": [
        {
          "output_type": "stream",
          "text": [
            "(10, 21, 2)\n"
          ],
          "name": "stdout"
        }
      ]
    },
    {
      "cell_type": "markdown",
      "metadata": {
        "id": "a_uagH0WM2wG",
        "colab_type": "text"
      },
      "source": [
        "# Epsilon greedy constant"
      ]
    },
    {
      "cell_type": "code",
      "metadata": {
        "id": "ErwdNa5mM01d",
        "colab_type": "code",
        "colab": {
          "base_uri": "https://localhost:8080/",
          "height": 35
        },
        "outputId": "58dbd424-3e47-4321-e2e9-f876ff1d0719"
      },
      "source": [
        "N0_VALUES = np.array([50, 100, 1000])\n",
        "print(N0_VALUES)"
      ],
      "execution_count": 12,
      "outputs": [
        {
          "output_type": "stream",
          "text": [
            "[  50  100 1000]\n"
          ],
          "name": "stdout"
        }
      ]
    },
    {
      "cell_type": "code",
      "metadata": {
        "id": "VYwPCW6JEoVv",
        "colab_type": "code",
        "colab": {}
      },
      "source": [
        ""
      ],
      "execution_count": 0,
      "outputs": []
    }
  ]
}
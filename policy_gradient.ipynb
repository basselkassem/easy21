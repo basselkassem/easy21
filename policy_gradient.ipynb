{
  "nbformat": 4,
  "nbformat_minor": 0,
  "metadata": {
    "colab": {
      "name": "policy-gradient.ipynb",
      "provenance": [],
      "collapsed_sections": [],
      "authorship_tag": "ABX9TyM8MKrrQg4VeAt9YWScEtio",
      "include_colab_link": true
    },
    "kernelspec": {
      "name": "python3",
      "display_name": "Python 3"
    }
  },
  "cells": [
    {
      "cell_type": "markdown",
      "metadata": {
        "id": "view-in-github",
        "colab_type": "text"
      },
      "source": [
        "<a href=\"https://colab.research.google.com/github/basselkassem/easy21/blob/master/policy_gradient.ipynb\" target=\"_parent\"><img src=\"https://colab.research.google.com/assets/colab-badge.svg\" alt=\"Open In Colab\"/></a>"
      ]
    },
    {
      "cell_type": "markdown",
      "metadata": {
        "id": "tm1PASr6C5BT",
        "colab_type": "text"
      },
      "source": [
        "# Install libs"
      ]
    },
    {
      "cell_type": "code",
      "metadata": {
        "id": "h5x2vb5_DlIM",
        "colab_type": "code",
        "colab": {
          "base_uri": "https://localhost:8080/",
          "height": 202
        },
        "outputId": "a6106a76-a745-4004-e194-792bea6415a2"
      },
      "source": [
        "!pip install import-ipynb"
      ],
      "execution_count": 1,
      "outputs": [
        {
          "output_type": "stream",
          "text": [
            "Collecting import-ipynb\n",
            "  Downloading https://files.pythonhosted.org/packages/63/35/495e0021bfdcc924c7cdec4e9fbb87c88dd03b9b9b22419444dc370c8a45/import-ipynb-0.1.3.tar.gz\n",
            "Building wheels for collected packages: import-ipynb\n",
            "  Building wheel for import-ipynb (setup.py) ... \u001b[?25l\u001b[?25hdone\n",
            "  Created wheel for import-ipynb: filename=import_ipynb-0.1.3-cp36-none-any.whl size=2976 sha256=f1fec566ffd7c3017041260ba03bb07513bc03e01255885d760431102798bc13\n",
            "  Stored in directory: /root/.cache/pip/wheels/b4/7b/e9/a3a6e496115dffdb4e3085d0ae39ffe8a814eacc44bbf494b5\n",
            "Successfully built import-ipynb\n",
            "Installing collected packages: import-ipynb\n",
            "Successfully installed import-ipynb-0.1.3\n"
          ],
          "name": "stdout"
        }
      ]
    },
    {
      "cell_type": "code",
      "metadata": {
        "id": "qjpLfLHWDNAY",
        "colab_type": "code",
        "outputId": "7ce758dd-a5b4-4a15-aaf6-5b4336abc3c5",
        "colab": {
          "base_uri": "https://localhost:8080/",
          "height": 54
        }
      },
      "source": [
        "from google.colab import drive\n",
        "drive.mount(\"/content/drive\", )\n",
        "%cd /content/drive/'My Drive'/'Colab Notebooks'/easy21"
      ],
      "execution_count": 5,
      "outputs": [
        {
          "output_type": "stream",
          "text": [
            "Drive already mounted at /content/drive; to attempt to forcibly remount, call drive.mount(\"/content/drive\", force_remount=True).\n",
            "/content/drive/My Drive/Colab Notebooks/easy21\n"
          ],
          "name": "stdout"
        }
      ]
    },
    {
      "cell_type": "markdown",
      "metadata": {
        "id": "OU3ttGt6DAsq",
        "colab_type": "text"
      },
      "source": [
        "# Import libs"
      ]
    },
    {
      "cell_type": "code",
      "metadata": {
        "id": "PJQYbXrbC-LV",
        "colab_type": "code",
        "colab": {}
      },
      "source": [
        "import numpy as np\n",
        "import matplotlib.pyplot as plt\n",
        "import import_ipynb\n",
        "import environment as env\n",
        "from collections import defaultdict\n",
        "import pickle"
      ],
      "execution_count": 0,
      "outputs": []
    },
    {
      "cell_type": "markdown",
      "metadata": {
        "id": "z5mwyDHZDMyD",
        "colab_type": "text"
      },
      "source": [
        "# Load optimal Q from MonteCarlo"
      ]
    },
    {
      "cell_type": "code",
      "metadata": {
        "id": "yoQe0LsMCbJI",
        "colab_type": "code",
        "colab": {}
      },
      "source": [
        "Q_star = None\n",
        "with open('q_star.pickle_5', 'rb') as file:\n",
        "    Q_star = pickle.load(file)"
      ],
      "execution_count": 0,
      "outputs": []
    },
    {
      "cell_type": "markdown",
      "metadata": {
        "id": "S_ltJFQ4LEAB",
        "colab_type": "text"
      },
      "source": [
        "# Implementation of Policy Gradient"
      ]
    },
    {
      "cell_type": "code",
      "metadata": {
        "id": "vThpxuOULWNB",
        "colab_type": "code",
        "colab": {}
      },
      "source": [
        "class PolicyGradient:\n",
        "    def __init__(self,):\n",
        "        pass\n",
        "    \n",
        "    def epsilon_greedy(self, state):\n",
        "        pass\n",
        "    def agent_policy(self, state):\n",
        "        pass\n",
        "\n",
        "    def policy_improvment(self,):\n",
        "        pass\n",
        "    def policy_evaluation(self):\n",
        "        pass\n",
        "    def policy_iteration(self):\n",
        "        pass"
      ],
      "execution_count": 0,
      "outputs": []
    },
    {
      "cell_type": "markdown",
      "metadata": {
        "id": "DffIXmKrLTFL",
        "colab_type": "text"
      },
      "source": [
        "# Visualize Results"
      ]
    },
    {
      "cell_type": "code",
      "metadata": {
        "id": "VYwPCW6JEoVv",
        "colab_type": "code",
        "colab": {}
      },
      "source": [
        ""
      ],
      "execution_count": 0,
      "outputs": []
    }
  ]
}
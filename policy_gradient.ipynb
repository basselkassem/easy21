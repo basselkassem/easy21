{
  "nbformat": 4,
  "nbformat_minor": 0,
  "metadata": {
    "colab": {
      "name": "policy-gradient.ipynb",
      "provenance": [],
      "collapsed_sections": [],
      "authorship_tag": "ABX9TyPwGppU70V0LNOG4YviXDtH",
      "include_colab_link": true
    },
    "kernelspec": {
      "name": "python3",
      "display_name": "Python 3"
    }
  },
  "cells": [
    {
      "cell_type": "markdown",
      "metadata": {
        "id": "view-in-github",
        "colab_type": "text"
      },
      "source": [
        "<a href=\"https://colab.research.google.com/github/basselkassem/easy21/blob/master/policy_gradient.ipynb\" target=\"_parent\"><img src=\"https://colab.research.google.com/assets/colab-badge.svg\" alt=\"Open In Colab\"/></a>"
      ]
    },
    {
      "cell_type": "markdown",
      "metadata": {
        "id": "tm1PASr6C5BT",
        "colab_type": "text"
      },
      "source": [
        "# Install libs"
      ]
    },
    {
      "cell_type": "code",
      "metadata": {
        "id": "h5x2vb5_DlIM",
        "colab_type": "code",
        "colab": {
          "base_uri": "https://localhost:8080/",
          "height": 35
        },
        "outputId": "8b191ff7-c529-4148-deed-fa467a563a9f"
      },
      "source": [
        "!pip install import-ipynb"
      ],
      "execution_count": 1,
      "outputs": [
        {
          "output_type": "stream",
          "text": [
            "Requirement already satisfied: import-ipynb in /usr/local/lib/python3.6/dist-packages (0.1.3)\n"
          ],
          "name": "stdout"
        }
      ]
    },
    {
      "cell_type": "code",
      "metadata": {
        "id": "qjpLfLHWDNAY",
        "colab_type": "code",
        "outputId": "a1be1b3e-fef7-462a-d91c-0e51d652cd1c",
        "colab": {
          "base_uri": "https://localhost:8080/",
          "height": 54
        }
      },
      "source": [
        "from google.colab import drive\n",
        "drive.mount(\"/content/drive\", )\n",
        "%cd /content/drive/'My Drive'/'Colab Notebooks'/easy21"
      ],
      "execution_count": 2,
      "outputs": [
        {
          "output_type": "stream",
          "text": [
            "Drive already mounted at /content/drive; to attempt to forcibly remount, call drive.mount(\"/content/drive\", force_remount=True).\n",
            "/content/drive/My Drive/Colab Notebooks/easy21\n"
          ],
          "name": "stdout"
        }
      ]
    },
    {
      "cell_type": "markdown",
      "metadata": {
        "id": "OU3ttGt6DAsq",
        "colab_type": "text"
      },
      "source": [
        "# Import libs"
      ]
    },
    {
      "cell_type": "code",
      "metadata": {
        "id": "PJQYbXrbC-LV",
        "colab_type": "code",
        "outputId": "78933d5e-aed0-4904-a13f-86324b1ef2de",
        "colab": {
          "base_uri": "https://localhost:8080/",
          "height": 35
        }
      },
      "source": [
        "import numpy as np\n",
        "import matplotlib.pyplot as plt\n",
        "import import_ipynb\n",
        "import environment as env\n",
        "from collections import defaultdict\n",
        "import pickle\n",
        "import tensorflow.compat.v1 as tf\n",
        "tf.disable_v2_behavior()\n",
        "print(tf.__version__)"
      ],
      "execution_count": 186,
      "outputs": [
        {
          "output_type": "stream",
          "text": [
            "2.2.0-rc4\n"
          ],
          "name": "stdout"
        }
      ]
    },
    {
      "cell_type": "markdown",
      "metadata": {
        "id": "S_ltJFQ4LEAB",
        "colab_type": "text"
      },
      "source": [
        "# Implementation of MonteCarlo Policy Gradient"
      ]
    },
    {
      "cell_type": "code",
      "metadata": {
        "id": "u_CmrG5RN-bQ",
        "colab_type": "code",
        "colab": {
          "base_uri": "https://localhost:8080/",
          "height": 35
        },
        "outputId": "82f4c80f-7d75-4878-c0b1-e89125e5b994"
      },
      "source": [
        "state_dim = (2,)\n",
        "actions_num = 2"
      ],
      "execution_count": 29,
      "outputs": [
        {
          "output_type": "stream",
          "text": [
            "(2,)\n"
          ],
          "name": "stdout"
        }
      ]
    },
    {
      "cell_type": "code",
      "metadata": {
        "id": "Rp5Xcl0LenVO",
        "colab_type": "code",
        "colab": {}
      },
      "source": [
        "states = tf.placeholder('float32', (None,) + state_dim, name = 'states')\n",
        "actions = tf.placeholder(dtype = 'int32', name = 'actions')\n",
        "cumulative_rewards = tf.placeholder(dtype = 'float32', name = 'cumulative_rewards')\n",
        "            \n",
        "layer = tf.layers.Dense(units = 128, activation = tf.nn.relu, name = 'input', kernel_initializer='glorot_uniform')(states)\n",
        "layer = tf.layers.Dense(units = 64, activation = tf.nn.relu, name = 'layer1', kernel_initializer='glorot_uniform')(layer)\n",
        "layer = tf.layers.Dense(units = 64, activation = tf.nn.relu, name = 'layer2', kernel_initializer='glorot_uniform')(layer)\n",
        "layer = tf.layers.Dense(units = 64, activation = tf.nn.relu, name = 'layer3', kernel_initializer='glorot_uniform')(layer)\n",
        "layer = tf.layers.Dense(units = 64, activation = tf.nn.relu, name = 'layer4', kernel_initializer='glorot_uniform')(layer)\n",
        "layer = tf.layers.Dense(units = 64, activation = tf.nn.relu, name = 'layer5', kernel_initializer='glorot_uniform')(layer)\n",
        "layer = tf.layers.Dense(units = 64, activation = tf.nn.relu, name = 'layer6', kernel_initializer='glorot_uniform')(layer)\n",
        "output = tf.layers.Dense(units = actions_num, name = 'output', kernel_initializer='glorot_uniform')(layer)\n",
        "\n",
        "policy = tf.nn.softmax(output, name = 'softmax')\n",
        "log_policy = tf.nn.log_softmax(output, name = 'log_softmax')\n",
        "\n",
        "indices = tf.stack([tf.range(tf.shape(log_policy)[0]),actions], axis=-1)\n",
        "log_policy_for_actions = tf.gather_nd(log_policy, indices)\n",
        "J = tf.reduce_mean(log_policy_for_actions * cumulative_rewards)\n",
        "all_weights = tf.trainable_variables()\n",
        "loss = -J\n",
        "optimize = tf.train.AdamOptimizer(learning_rate = 0.001).minimize(loss = loss, var_list = all_weights)\n",
        "\n",
        "def get_actions_proba(state):\n",
        "    return policy.eval({states: [state]})[0]\n",
        "\n",
        "def train_step(_states, _actions, _cumulative_rewards):\n",
        "    optimize.run({\n",
        "        states: _states,\n",
        "        actions: _actions,\n",
        "        cumulative_rewards: _cumulative_rewards,\n",
        "    })"
      ],
      "execution_count": 0,
      "outputs": []
    },
    {
      "cell_type": "code",
      "metadata": {
        "id": "AAyEabqRCmcp",
        "colab_type": "code",
        "colab": {
          "base_uri": "https://localhost:8080/",
          "height": 110
        },
        "outputId": "b5ab1b43-ac00-4bc3-ce3d-bec2970949a9"
      },
      "source": [
        "\n",
        "tf_session = tf.InteractiveSession()\n",
        "tf_session.run(tf.global_variables_initializer())"
      ],
      "execution_count": 158,
      "outputs": [
        {
          "output_type": "stream",
          "text": [
            "/usr/local/lib/python3.6/dist-packages/tensorflow/python/client/session.py:1751: UserWarning:\n",
            "\n",
            "An interactive session is already active. This can cause out-of-memory errors in some cases. You must explicitly call `InteractiveSession.close()` to release resources held by the other session(s).\n",
            "\n"
          ],
          "name": "stderr"
        }
      ]
    },
    {
      "cell_type": "code",
      "metadata": {
        "id": "vThpxuOULWNB",
        "colab_type": "code",
        "colab": {}
      },
      "source": [
        "class PolicyGradien:\n",
        "    def __init__(self, episodes_num):\n",
        "        self.episodes_num = episodes_num\n",
        "        self.Q = defaultdict(int) # action-value function\n",
        "        self.easy21 = env.Environment(mode = 'no_debug')\n",
        "\n",
        "    def agent_policy(self, state):\n",
        "        proba = get_actions_proba(np.array(state))\n",
        "        return np.random.choice([0, 1], p = proba)\n",
        "\n",
        "    def policy_improvement(self, returned_reward, episode):\n",
        "        states, actions = [], []\n",
        "        for state, action in episode:\n",
        "            states.append(state)\n",
        "            actions.append(action)\n",
        "        states = np.asarray(states) / np.array([11., 21.])\n",
        "        train_step(states, actions, returned_reward)\n",
        "\n",
        "    def policy_evaluation(self, state):\n",
        "        done = False\n",
        "        episode = []\n",
        "        returned_reward = 0\n",
        "        player_action = self.agent_policy(state)\n",
        "        episode.append((state, player_action))\n",
        "        while not done:\n",
        "            state, reward, done = self.easy21.step(state, player_action)\n",
        "            player_action = self.agent_policy(state)\n",
        "            returned_reward += reward\n",
        "            if not done:\n",
        "                episode.append((state, player_action))\n",
        "        return returned_reward, episode\n",
        "\n",
        "    def policy_iteration(self):\n",
        "        rewards = []\n",
        "        for episode in np.arange(self.episodes_num):\n",
        "            self.easy21 = env.Environment(mode = 'no_debug')\n",
        "            state, _, done = self.easy21.init()\n",
        "            returned_reward, episode = self.policy_evaluation(state)\n",
        "            self.policy_improvement(returned_reward, episode)\n",
        "            rewards.append(returned_reward)\n",
        "        return rewards"
      ],
      "execution_count": 0,
      "outputs": []
    },
    {
      "cell_type": "markdown",
      "metadata": {
        "id": "DffIXmKrLTFL",
        "colab_type": "text"
      },
      "source": [
        "# Visualize Results"
      ]
    },
    {
      "cell_type": "code",
      "metadata": {
        "id": "MCEFVn-vf0-g",
        "colab_type": "code",
        "colab": {
          "base_uri": "https://localhost:8080/",
          "height": 54
        },
        "outputId": "ea3a740d-1214-41a7-8107-5e1df1f15a7c"
      },
      "source": [
        "%%time\n",
        "episodes_num = 1000\n",
        "agent = PolicyGradien(episodes_num)\n",
        "rewards = agent.policy_iteration()"
      ],
      "execution_count": 178,
      "outputs": [
        {
          "output_type": "stream",
          "text": [
            "CPU times: user 2.72 s, sys: 211 ms, total: 2.93 s\n",
            "Wall time: 2.24 s\n"
          ],
          "name": "stdout"
        }
      ]
    },
    {
      "cell_type": "code",
      "metadata": {
        "id": "VYwPCW6JEoVv",
        "colab_type": "code",
        "colab": {
          "base_uri": "https://localhost:8080/",
          "height": 295
        },
        "outputId": "b1329b80-c66d-4e83-c653-9cad43ddf5eb"
      },
      "source": [
        "def moving_average(a, n=3) :\n",
        "    ret = np.cumsum(a, dtype=float)\n",
        "    ret[n:] = ret[n:] - ret[:-n]\n",
        "    return ret[n - 1:] / n\n",
        "win = episodes_num // 10\n",
        "res = moving_average(rewards, n=win)\n",
        "x = np.arange(episodes_num)\n",
        "plt.plot(x[win - 1:], res)\n",
        "plt.xlabel('episodes')\n",
        "plt.title('Averaged rewards')\n",
        "plt.show()"
      ],
      "execution_count": 179,
      "outputs": [
        {
          "output_type": "display_data",
          "data": {
            "image/png": "[encoded data removed]",
            "text/plain": [
              "<Figure size 432x288 with 1 Axes>"
            ]
          },
          "metadata": {
            "tags": [],
            "needs_background": "light"
          }
        }
      ]
    },
    {
      "cell_type": "code",
      "metadata": {
        "id": "VptlRmuDt1kP",
        "colab_type": "code",
        "colab": {
          "base_uri": "https://localhost:8080/",
          "height": 54
        },
        "outputId": "d3d21d38-1f01-473c-8bac-b23157321954"
      },
      "source": [
        "%%time\n",
        "episodes_num = 100000\n",
        "agent = PolicyGradien(episodes_num)\n",
        "rewards = agent.policy_iteration()\n",
        "win = episodes_num // 10"
      ],
      "execution_count": 184,
      "outputs": [
        {
          "output_type": "stream",
          "text": [
            "CPU times: user 4min 32s, sys: 21.5 s, total: 4min 54s\n",
            "Wall time: 3min 43s\n"
          ],
          "name": "stdout"
        }
      ]
    },
    {
      "cell_type": "code",
      "metadata": {
        "id": "Zt06Ru3FgMlg",
        "colab_type": "code",
        "colab": {
          "base_uri": "https://localhost:8080/",
          "height": 295
        },
        "outputId": "88980f85-9d89-4beb-9e42-79a85a03860d"
      },
      "source": [
        "\n",
        "res = moving_average(rewards, n=win)\n",
        "x = np.arange(episodes_num)\n",
        "plt.plot(x[win - 1:], res)\n",
        "plt.xlabel('episodes')\n",
        "plt.title('Averaged rewards')\n",
        "plt.show()"
      ],
      "execution_count": 185,
      "outputs": [
        {
          "output_type": "display_data",
          "data": {
            "image/png": "[encoded data removed]",
            "text/plain": [
              "<Figure size 432x288 with 1 Axes>"
            ]
          },
          "metadata": {
            "tags": [],
            "needs_background": "light"
          }
        }
      ]
    },
    {
      "cell_type": "code",
      "metadata": {
        "id": "0gU8YvwcUvVK",
        "colab_type": "code",
        "colab": {}
      },
      "source": [
        "tf_session.close()"
      ],
      "execution_count": 0,
      "outputs": []
    }
  ]
}